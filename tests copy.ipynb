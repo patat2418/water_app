{
 "cells": [
  {
   "cell_type": "code",
   "execution_count": null,
   "id": "eadec728",
   "metadata": {},
   "outputs": [
    {
     "ename": "",
     "evalue": "",
     "output_type": "error",
     "traceback": [
      "\u001b[1;31mRunning cells with 'virt' requires the ipykernel package.\n",
      "\u001b[1;31mRun the following command to install 'ipykernel' into the Python environment. \n",
      "\u001b[1;31mCommand: '\"c:/Users/Avner.PALGEY-MAIM/python-avner/Avner autocad network solver/virt/Scripts/python.exe\" -m pip install ipykernel -U --force-reinstall'"
     ]
    }
   ],
   "source": [
    "import sys\n",
    "import os\n",
    "from pyautocad import Autocad, APoint, aDouble\n",
    "from math import *\n",
    "import pandas as pd\n",
    "import win32com.client\n",
    "sys.path.insert(1,os.getcwd())\n",
    "from utils import eq\n",
    "from utils import useful_functions as uf\n",
    "from entities import entities\n",
    "from utils.autocad import autocad_functions\n",
    "\n",
    "acad = Autocad(create_if_not_exists=True)\n",
    "# pipes_table = pd.read_excel('data\\\\outputs\\\\acad-pipelines.xlsx',sheet_name='Pipes')\n",
    "# pipes_table.set_index('pipe #')\n",
    "# pumps_table = pd.read_excel('data\\\\outputs\\\\acad-pipelines.xlsx',sheet_name='Pumps')\n",
    "# pumps_table.set_index('pump #')\n",
    "\n",
    "# def float_tuple_from_str(string_tuple):\n",
    "#     '''\n",
    "#     string_tuple = '(1.0,2.0,3.0)'\n",
    "#     float_tuple = (1.0,2.0,3.0)\n",
    "#     '''\n",
    "#     string_tuple.strip('()').split(',')\n",
    "#     float_tuple = tuple(map(float, string_tuple.strip('()').split(',')))\n",
    "#     return float_tuple\n",
    "\n",
    "# def midpoint_betwen_to_points(p1,p2):\n",
    "#     p3 = tuple([(p1[i]+p2[i])/2 for i,cor in enumerate(p1)])\n",
    "#     return p3\n",
    "    \n",
    "# pipes_table"
   ]
  },
  {
   "cell_type": "code",
   "execution_count": 13,
   "id": "5af299e6",
   "metadata": {},
   "outputs": [
    {
     "ename": "AttributeError",
     "evalue": "'function' object has no attribute 'func'",
     "output_type": "error",
     "traceback": [
      "\u001b[1;31m---------------------------------------------------------------------------\u001b[0m",
      "\u001b[1;31mAttributeError\u001b[0m                            Traceback (most recent call last)",
      "\u001b[1;32mc:\\Users\\avner\\google drive\\Python\\Apps\\Avner autocad network solver\\tests.ipynb Cell 2\u001b[0m in \u001b[0;36m<cell line: 2>\u001b[1;34m()\u001b[0m\n\u001b[0;32m      <a href='vscode-notebook-cell:/c%3A/Users/avner/google%20drive/Python/Apps/Avner%20autocad%20network%20solver/tests.ipynb#X55sZmlsZQ%3D%3D?line=0'>1</a>\u001b[0m text \u001b[39m=\u001b[39m \u001b[39m'\u001b[39m\u001b[39mPlease insert input: \u001b[39m\u001b[39m'\u001b[39m\n\u001b[1;32m----> <a href='vscode-notebook-cell:/c%3A/Users/avner/google%20drive/Python/Apps/Avner%20autocad%20network%20solver/tests.ipynb#X55sZmlsZQ%3D%3D?line=1'>2</a>\u001b[0m a \u001b[39m=\u001b[39m acad\u001b[39m.\u001b[39;49mdoc\u001b[39m.\u001b[39;49mUtility\u001b[39m.\u001b[39;49mPrompt\u001b[39m.\u001b[39;49mfunc\n\u001b[0;32m      <a href='vscode-notebook-cell:/c%3A/Users/avner/google%20drive/Python/Apps/Avner%20autocad%20network%20solver/tests.ipynb#X55sZmlsZQ%3D%3D?line=2'>3</a>\u001b[0m \u001b[39m# b = input(a)\u001b[39;00m\n\u001b[0;32m      <a href='vscode-notebook-cell:/c%3A/Users/avner/google%20drive/Python/Apps/Avner%20autocad%20network%20solver/tests.ipynb#X55sZmlsZQ%3D%3D?line=3'>4</a>\u001b[0m a\n",
      "\u001b[1;31mAttributeError\u001b[0m: 'function' object has no attribute 'func'"
     ]
    }
   ],
   "source": [
    "text = 'Please insert input: '\n",
    "a = acad.doc.Utility.Prompt.func\n",
    "# b = input(a)\n",
    "a"
   ]
  },
  {
   "cell_type": "code",
   "execution_count": 9,
   "id": "fb44e34b",
   "metadata": {},
   "outputs": [
    {
     "name": "stdout",
     "output_type": "stream",
     "text": [
      "Help on NoneType object:\n",
      "\n",
      "class NoneType(object)\n",
      " |  Methods defined here:\n",
      " |  \n",
      " |  __bool__(self, /)\n",
      " |      self != 0\n",
      " |  \n",
      " |  __repr__(self, /)\n",
      " |      Return repr(self).\n",
      " |  \n",
      " |  ----------------------------------------------------------------------\n",
      " |  Static methods defined here:\n",
      " |  \n",
      " |  __new__(*args, **kwargs) from builtins.type\n",
      " |      Create and return a new object.  See help(type) for accurate signature.\n",
      "\n"
     ]
    }
   ],
   "source": [
    "help(acad.doc.Utility.Prompt('a'))"
   ]
  },
  {
   "cell_type": "code",
   "execution_count": 12,
   "id": "cb72f0c1",
   "metadata": {},
   "outputs": [
    {
     "data": {
      "text/html": [
       "<div>\n",
       "<style scoped>\n",
       "    .dataframe tbody tr th:only-of-type {\n",
       "        vertical-align: middle;\n",
       "    }\n",
       "\n",
       "    .dataframe tbody tr th {\n",
       "        vertical-align: top;\n",
       "    }\n",
       "\n",
       "    .dataframe thead th {\n",
       "        text-align: right;\n",
       "    }\n",
       "</style>\n",
       "<table border=\"1\" class=\"dataframe\">\n",
       "  <thead>\n",
       "    <tr style=\"text-align: right;\">\n",
       "      <th></th>\n",
       "      <th>ND</th>\n",
       "      <th>OD</th>\n",
       "      <th>allowed pressure for GR-B</th>\n",
       "      <th>allowed pressure for x-42</th>\n",
       "      <th>wall thickness</th>\n",
       "      <th>Cement thickness</th>\n",
       "      <th>Water content</th>\n",
       "      <th>Id</th>\n",
       "      <th>Flow area</th>\n",
       "      <th>Support distance</th>\n",
       "    </tr>\n",
       "  </thead>\n",
       "  <tbody>\n",
       "    <tr>\n",
       "      <th>0</th>\n",
       "      <td>\"</td>\n",
       "      <td>mm</td>\n",
       "      <td>bar</td>\n",
       "      <td>bar</td>\n",
       "      <td>mm</td>\n",
       "      <td>mm</td>\n",
       "      <td>kg</td>\n",
       "      <td>m</td>\n",
       "      <td>m^2</td>\n",
       "      <td>m</td>\n",
       "    </tr>\n",
       "    <tr>\n",
       "      <th>1</th>\n",
       "      <td>3</td>\n",
       "      <td>88.9</td>\n",
       "      <td>106</td>\n",
       "      <td>129</td>\n",
       "      <td>3.97</td>\n",
       "      <td>5</td>\n",
       "      <td>4.2</td>\n",
       "      <td>0.073</td>\n",
       "      <td>0.0042</td>\n",
       "      <td>6</td>\n",
       "    </tr>\n",
       "    <tr>\n",
       "      <th>2</th>\n",
       "      <td>3</td>\n",
       "      <td>88.9</td>\n",
       "      <td>129</td>\n",
       "      <td>155</td>\n",
       "      <td>4.76</td>\n",
       "      <td>5</td>\n",
       "      <td>4</td>\n",
       "      <td>0.071</td>\n",
       "      <td>0.004</td>\n",
       "      <td>6</td>\n",
       "    </tr>\n",
       "    <tr>\n",
       "      <th>3</th>\n",
       "      <td>3</td>\n",
       "      <td>88.9</td>\n",
       "      <td>151</td>\n",
       "      <td>181</td>\n",
       "      <td>5.56</td>\n",
       "      <td>5</td>\n",
       "      <td>3.8</td>\n",
       "      <td>0.07</td>\n",
       "      <td>0.0038</td>\n",
       "      <td>7</td>\n",
       "    </tr>\n",
       "    <tr>\n",
       "      <th>4</th>\n",
       "      <td>4</td>\n",
       "      <td>114.3</td>\n",
       "      <td>84</td>\n",
       "      <td>101</td>\n",
       "      <td>3.97</td>\n",
       "      <td>5</td>\n",
       "      <td>7.6</td>\n",
       "      <td>0.098</td>\n",
       "      <td>0.0076</td>\n",
       "      <td>7</td>\n",
       "    </tr>\n",
       "  </tbody>\n",
       "</table>\n",
       "</div>"
      ],
      "text/plain": [
       "  ND     OD allowed pressure for GR-B allowed pressure for x-42  \\\n",
       "0  \"     mm                       bar                       bar   \n",
       "1  3   88.9                       106                       129   \n",
       "2  3   88.9                       129                       155   \n",
       "3  3   88.9                       151                       181   \n",
       "4  4  114.3                        84                       101   \n",
       "\n",
       "  wall thickness Cement thickness Water content      Id Flow area  \\\n",
       "0             mm               mm             kg      m       m^2   \n",
       "1           3.97                5            4.2  0.073    0.0042   \n",
       "2           4.76                5              4  0.071     0.004   \n",
       "3           5.56                5            3.8   0.07    0.0038   \n",
       "4           3.97                5            7.6  0.098    0.0076   \n",
       "\n",
       "  Support distance  \n",
       "0                m  \n",
       "1                6  \n",
       "2                6  \n",
       "3                7  \n",
       "4                7  "
      ]
     },
     "execution_count": 12,
     "metadata": {},
     "output_type": "execute_result"
    }
   ],
   "source": [
    "steel_pipes_table = pd.read_excel('pipes.xlsx',sheet_name='Steel')\n",
    "# steel_pipes_table = steel_pipes_table.groupby('OD')\n",
    "steel_pipes_table.head()\n",
    "# steel_pipes_table.info()\n",
    "# type(steel_pipes_table[2])"
   ]
  },
  {
   "cell_type": "code",
   "execution_count": 16,
   "id": "59f747ec",
   "metadata": {},
   "outputs": [
    {
     "ename": "AttributeError",
     "evalue": "'DataFrameGroupBy' object has no attribute 'unstack'",
     "output_type": "error",
     "traceback": [
      "\u001b[1;31m---------------------------------------------------------------------------\u001b[0m",
      "\u001b[1;31mAttributeError\u001b[0m                            Traceback (most recent call last)",
      "\u001b[1;32m~\\AppData\\Local\\Temp/ipykernel_10588/2032917506.py\u001b[0m in \u001b[0;36m<module>\u001b[1;34m\u001b[0m\n\u001b[1;32m----> 1\u001b[1;33m \u001b[0msteel_pipes_table\u001b[0m\u001b[1;33m.\u001b[0m\u001b[0mgroupby\u001b[0m\u001b[1;33m(\u001b[0m\u001b[1;34m'OD'\u001b[0m\u001b[1;33m)\u001b[0m\u001b[1;33m.\u001b[0m\u001b[0munstack\u001b[0m\u001b[1;33m(\u001b[0m\u001b[1;33m)\u001b[0m\u001b[1;33m.\u001b[0m\u001b[0mhead\u001b[0m\u001b[1;33m(\u001b[0m\u001b[1;33m)\u001b[0m\u001b[1;33m\u001b[0m\u001b[1;33m\u001b[0m\u001b[0m\n\u001b[0m",
      "\u001b[1;32mC:\\ProgramData\\Anaconda3\\lib\\site-packages\\pandas\\core\\groupby\\groupby.py\u001b[0m in \u001b[0;36m__getattr__\u001b[1;34m(self, attr)\u001b[0m\n\u001b[0;32m    909\u001b[0m             \u001b[1;32mreturn\u001b[0m \u001b[0mself\u001b[0m\u001b[1;33m[\u001b[0m\u001b[0mattr\u001b[0m\u001b[1;33m]\u001b[0m\u001b[1;33m\u001b[0m\u001b[1;33m\u001b[0m\u001b[0m\n\u001b[0;32m    910\u001b[0m \u001b[1;33m\u001b[0m\u001b[0m\n\u001b[1;32m--> 911\u001b[1;33m         raise AttributeError(\n\u001b[0m\u001b[0;32m    912\u001b[0m             \u001b[1;34mf\"'{type(self).__name__}' object has no attribute '{attr}'\"\u001b[0m\u001b[1;33m\u001b[0m\u001b[1;33m\u001b[0m\u001b[0m\n\u001b[0;32m    913\u001b[0m         )\n",
      "\u001b[1;31mAttributeError\u001b[0m: 'DataFrameGroupBy' object has no attribute 'unstack'"
     ]
    }
   ],
   "source": [
    "steel_pipes_table.groupby('OD').unstack().head()"
   ]
  },
  {
   "cell_type": "code",
   "execution_count": 20,
   "id": "40206ca6",
   "metadata": {},
   "outputs": [
    {
     "ename": "TypeError",
     "evalue": "cannot convert the series to <class 'float'>",
     "output_type": "error",
     "traceback": [
      "\u001b[1;31m---------------------------------------------------------------------------\u001b[0m",
      "\u001b[1;31mTypeError\u001b[0m                                 Traceback (most recent call last)",
      "\u001b[1;32m~\\AppData\\Local\\Temp/ipykernel_10588/2427143511.py\u001b[0m in \u001b[0;36m<module>\u001b[1;34m\u001b[0m\n\u001b[1;32m----> 1\u001b[1;33m \u001b[0msteel_pipes_table\u001b[0m\u001b[1;33m.\u001b[0m\u001b[0miloc\u001b[0m\u001b[1;33m[\u001b[0m\u001b[1;33m(\u001b[0m\u001b[0mfloat\u001b[0m\u001b[1;33m(\u001b[0m\u001b[0msteel_pipes_table\u001b[0m\u001b[1;33m[\u001b[0m\u001b[1;34m'Id'\u001b[0m\u001b[1;33m]\u001b[0m\u001b[1;33m)\u001b[0m\u001b[1;33m-\u001b[0m\u001b[1;36m422\u001b[0m\u001b[1;33m)\u001b[0m\u001b[1;33m.\u001b[0m\u001b[0mabs\u001b[0m\u001b[1;33m(\u001b[0m\u001b[1;33m)\u001b[0m\u001b[1;33m.\u001b[0m\u001b[0margsort\u001b[0m\u001b[1;33m(\u001b[0m\u001b[1;33m)\u001b[0m\u001b[1;33m[\u001b[0m\u001b[1;33m:\u001b[0m\u001b[1;33m-\u001b[0m\u001b[1;36m1\u001b[0m\u001b[1;33m]\u001b[0m\u001b[1;33m]\u001b[0m\u001b[1;33m\u001b[0m\u001b[1;33m\u001b[0m\u001b[0m\n\u001b[0m",
      "\u001b[1;32mC:\\ProgramData\\Anaconda3\\lib\\site-packages\\pandas\\core\\series.py\u001b[0m in \u001b[0;36mwrapper\u001b[1;34m(self)\u001b[0m\n\u001b[0;32m    183\u001b[0m         \u001b[1;32mif\u001b[0m \u001b[0mlen\u001b[0m\u001b[1;33m(\u001b[0m\u001b[0mself\u001b[0m\u001b[1;33m)\u001b[0m \u001b[1;33m==\u001b[0m \u001b[1;36m1\u001b[0m\u001b[1;33m:\u001b[0m\u001b[1;33m\u001b[0m\u001b[1;33m\u001b[0m\u001b[0m\n\u001b[0;32m    184\u001b[0m             \u001b[1;32mreturn\u001b[0m \u001b[0mconverter\u001b[0m\u001b[1;33m(\u001b[0m\u001b[0mself\u001b[0m\u001b[1;33m.\u001b[0m\u001b[0miloc\u001b[0m\u001b[1;33m[\u001b[0m\u001b[1;36m0\u001b[0m\u001b[1;33m]\u001b[0m\u001b[1;33m)\u001b[0m\u001b[1;33m\u001b[0m\u001b[1;33m\u001b[0m\u001b[0m\n\u001b[1;32m--> 185\u001b[1;33m         \u001b[1;32mraise\u001b[0m \u001b[0mTypeError\u001b[0m\u001b[1;33m(\u001b[0m\u001b[1;34mf\"cannot convert the series to {converter}\"\u001b[0m\u001b[1;33m)\u001b[0m\u001b[1;33m\u001b[0m\u001b[1;33m\u001b[0m\u001b[0m\n\u001b[0m\u001b[0;32m    186\u001b[0m \u001b[1;33m\u001b[0m\u001b[0m\n\u001b[0;32m    187\u001b[0m     \u001b[0mwrapper\u001b[0m\u001b[1;33m.\u001b[0m\u001b[0m__name__\u001b[0m \u001b[1;33m=\u001b[0m \u001b[1;34mf\"__{converter.__name__}__\"\u001b[0m\u001b[1;33m\u001b[0m\u001b[1;33m\u001b[0m\u001b[0m\n",
      "\u001b[1;31mTypeError\u001b[0m: cannot convert the series to <class 'float'>"
     ]
    }
   ],
   "source": [
    "steel_pipes_table.iloc[(float(steel_pipes_table['Id'])-422).abs().argsort()[:-1]]"
   ]
  },
  {
   "cell_type": "code",
   "execution_count": 13,
   "id": "0b0b9fd7",
   "metadata": {},
   "outputs": [],
   "source": [
    "pd.to_numeric(steel_pipes_table['Id'],errors='coerce',downcast='float')\n",
    "steel_pipes_table['Id'][0]=0"
   ]
  },
  {
   "cell_type": "code",
   "execution_count": 44,
   "id": "f30a2833",
   "metadata": {},
   "outputs": [
    {
     "data": {
      "text/plain": [
       "float"
      ]
     },
     "execution_count": 44,
     "metadata": {},
     "output_type": "execute_result"
    }
   ],
   "source": [
    "type(steel_pipes_table['Id'][2])"
   ]
  },
  {
   "cell_type": "code",
   "execution_count": 45,
   "id": "0915de00",
   "metadata": {},
   "outputs": [
    {
     "name": "stdout",
     "output_type": "stream",
     "text": [
      "<class 'float'>\n",
      "<class 'float'>\n"
     ]
    },
    {
     "ename": "TypeError",
     "evalue": "reduction operation 'argmax' not allowed for this dtype",
     "output_type": "error",
     "traceback": [
      "\u001b[1;31m---------------------------------------------------------------------------\u001b[0m",
      "\u001b[1;31mTypeError\u001b[0m                                 Traceback (most recent call last)",
      "\u001b[1;32m~\\AppData\\Local\\Temp/ipykernel_10588/4099327528.py\u001b[0m in \u001b[0;36m<module>\u001b[1;34m\u001b[0m\n\u001b[0;32m      8\u001b[0m         \u001b[0mlowerneighbour_ind\u001b[0m \u001b[1;33m=\u001b[0m \u001b[0mdf\u001b[0m\u001b[1;33m[\u001b[0m\u001b[0mdf\u001b[0m\u001b[1;33m[\u001b[0m\u001b[0mcolname\u001b[0m\u001b[1;33m]\u001b[0m \u001b[1;33m<\u001b[0m \u001b[0mvalue\u001b[0m\u001b[1;33m]\u001b[0m\u001b[1;33m[\u001b[0m\u001b[0mcolname\u001b[0m\u001b[1;33m]\u001b[0m\u001b[1;33m.\u001b[0m\u001b[0midxmax\u001b[0m\u001b[1;33m(\u001b[0m\u001b[1;33m)\u001b[0m\u001b[1;33m\u001b[0m\u001b[1;33m\u001b[0m\u001b[0m\n\u001b[0;32m      9\u001b[0m         \u001b[1;32mreturn\u001b[0m \u001b[1;33m[\u001b[0m\u001b[0mlowerneighbour_ind\u001b[0m\u001b[1;33m]\u001b[0m\u001b[1;33m\u001b[0m\u001b[1;33m\u001b[0m\u001b[0m\n\u001b[1;32m---> 10\u001b[1;33m \u001b[0mfind_neighbours\u001b[0m\u001b[1;33m(\u001b[0m\u001b[1;36m0.422\u001b[0m\u001b[1;33m,\u001b[0m \u001b[0msteel_pipes_table\u001b[0m\u001b[1;33m,\u001b[0m \u001b[1;34m'Id'\u001b[0m\u001b[1;33m)\u001b[0m\u001b[1;33m\u001b[0m\u001b[1;33m\u001b[0m\u001b[0m\n\u001b[0m",
      "\u001b[1;32m~\\AppData\\Local\\Temp/ipykernel_10588/4099327528.py\u001b[0m in \u001b[0;36mfind_neighbours\u001b[1;34m(value, df, colname)\u001b[0m\n\u001b[0;32m      6\u001b[0m         \u001b[0mprint\u001b[0m\u001b[1;33m(\u001b[0m\u001b[0mtype\u001b[0m\u001b[1;33m(\u001b[0m\u001b[0mdf\u001b[0m\u001b[1;33m[\u001b[0m\u001b[0mcolname\u001b[0m\u001b[1;33m]\u001b[0m\u001b[1;33m[\u001b[0m\u001b[1;36m1\u001b[0m\u001b[1;33m]\u001b[0m\u001b[1;33m)\u001b[0m\u001b[1;33m)\u001b[0m\u001b[1;33m\u001b[0m\u001b[1;33m\u001b[0m\u001b[0m\n\u001b[0;32m      7\u001b[0m         \u001b[0mprint\u001b[0m\u001b[1;33m(\u001b[0m\u001b[0mtype\u001b[0m\u001b[1;33m(\u001b[0m\u001b[0mvalue\u001b[0m\u001b[1;33m)\u001b[0m\u001b[1;33m)\u001b[0m\u001b[1;33m\u001b[0m\u001b[1;33m\u001b[0m\u001b[0m\n\u001b[1;32m----> 8\u001b[1;33m         \u001b[0mlowerneighbour_ind\u001b[0m \u001b[1;33m=\u001b[0m \u001b[0mdf\u001b[0m\u001b[1;33m[\u001b[0m\u001b[0mdf\u001b[0m\u001b[1;33m[\u001b[0m\u001b[0mcolname\u001b[0m\u001b[1;33m]\u001b[0m \u001b[1;33m<\u001b[0m \u001b[0mvalue\u001b[0m\u001b[1;33m]\u001b[0m\u001b[1;33m[\u001b[0m\u001b[0mcolname\u001b[0m\u001b[1;33m]\u001b[0m\u001b[1;33m.\u001b[0m\u001b[0midxmax\u001b[0m\u001b[1;33m(\u001b[0m\u001b[1;33m)\u001b[0m\u001b[1;33m\u001b[0m\u001b[1;33m\u001b[0m\u001b[0m\n\u001b[0m\u001b[0;32m      9\u001b[0m         \u001b[1;32mreturn\u001b[0m \u001b[1;33m[\u001b[0m\u001b[0mlowerneighbour_ind\u001b[0m\u001b[1;33m]\u001b[0m\u001b[1;33m\u001b[0m\u001b[1;33m\u001b[0m\u001b[0m\n\u001b[0;32m     10\u001b[0m \u001b[0mfind_neighbours\u001b[0m\u001b[1;33m(\u001b[0m\u001b[1;36m0.422\u001b[0m\u001b[1;33m,\u001b[0m \u001b[0msteel_pipes_table\u001b[0m\u001b[1;33m,\u001b[0m \u001b[1;34m'Id'\u001b[0m\u001b[1;33m)\u001b[0m\u001b[1;33m\u001b[0m\u001b[1;33m\u001b[0m\u001b[0m\n",
      "\u001b[1;32mC:\\ProgramData\\Anaconda3\\lib\\site-packages\\pandas\\core\\series.py\u001b[0m in \u001b[0;36midxmax\u001b[1;34m(self, axis, skipna, *args, **kwargs)\u001b[0m\n\u001b[0;32m   2353\u001b[0m         \u001b[0mnan\u001b[0m\u001b[1;33m\u001b[0m\u001b[1;33m\u001b[0m\u001b[0m\n\u001b[0;32m   2354\u001b[0m         \"\"\"\n\u001b[1;32m-> 2355\u001b[1;33m         \u001b[0mi\u001b[0m \u001b[1;33m=\u001b[0m \u001b[0mself\u001b[0m\u001b[1;33m.\u001b[0m\u001b[0margmax\u001b[0m\u001b[1;33m(\u001b[0m\u001b[0maxis\u001b[0m\u001b[1;33m,\u001b[0m \u001b[0mskipna\u001b[0m\u001b[1;33m,\u001b[0m \u001b[1;33m*\u001b[0m\u001b[0margs\u001b[0m\u001b[1;33m,\u001b[0m \u001b[1;33m**\u001b[0m\u001b[0mkwargs\u001b[0m\u001b[1;33m)\u001b[0m\u001b[1;33m\u001b[0m\u001b[1;33m\u001b[0m\u001b[0m\n\u001b[0m\u001b[0;32m   2356\u001b[0m         \u001b[1;32mif\u001b[0m \u001b[0mi\u001b[0m \u001b[1;33m==\u001b[0m \u001b[1;33m-\u001b[0m\u001b[1;36m1\u001b[0m\u001b[1;33m:\u001b[0m\u001b[1;33m\u001b[0m\u001b[1;33m\u001b[0m\u001b[0m\n\u001b[0;32m   2357\u001b[0m             \u001b[1;32mreturn\u001b[0m \u001b[0mnp\u001b[0m\u001b[1;33m.\u001b[0m\u001b[0mnan\u001b[0m\u001b[1;33m\u001b[0m\u001b[1;33m\u001b[0m\u001b[0m\n",
      "\u001b[1;32mC:\\ProgramData\\Anaconda3\\lib\\site-packages\\pandas\\core\\base.py\u001b[0m in \u001b[0;36margmax\u001b[1;34m(self, axis, skipna, *args, **kwargs)\u001b[0m\n\u001b[0;32m    645\u001b[0m             \u001b[1;31m# error: Incompatible return value type (got \"Union[int, ndarray]\", expected\u001b[0m\u001b[1;33m\u001b[0m\u001b[1;33m\u001b[0m\u001b[0m\n\u001b[0;32m    646\u001b[0m             \u001b[1;31m# \"int\")\u001b[0m\u001b[1;33m\u001b[0m\u001b[1;33m\u001b[0m\u001b[0m\n\u001b[1;32m--> 647\u001b[1;33m             return nanops.nanargmax(  # type: ignore[return-value]\n\u001b[0m\u001b[0;32m    648\u001b[0m                 \u001b[0mdelegate\u001b[0m\u001b[1;33m,\u001b[0m \u001b[0mskipna\u001b[0m\u001b[1;33m=\u001b[0m\u001b[0mskipna\u001b[0m\u001b[1;33m\u001b[0m\u001b[1;33m\u001b[0m\u001b[0m\n\u001b[0;32m    649\u001b[0m             )\n",
      "\u001b[1;32mC:\\ProgramData\\Anaconda3\\lib\\site-packages\\pandas\\core\\nanops.py\u001b[0m in \u001b[0;36m_f\u001b[1;34m(*args, **kwargs)\u001b[0m\n\u001b[0;32m     86\u001b[0m             \u001b[1;32mif\u001b[0m \u001b[0many\u001b[0m\u001b[1;33m(\u001b[0m\u001b[0mself\u001b[0m\u001b[1;33m.\u001b[0m\u001b[0mcheck\u001b[0m\u001b[1;33m(\u001b[0m\u001b[0mobj\u001b[0m\u001b[1;33m)\u001b[0m \u001b[1;32mfor\u001b[0m \u001b[0mobj\u001b[0m \u001b[1;32min\u001b[0m \u001b[0mobj_iter\u001b[0m\u001b[1;33m)\u001b[0m\u001b[1;33m:\u001b[0m\u001b[1;33m\u001b[0m\u001b[1;33m\u001b[0m\u001b[0m\n\u001b[0;32m     87\u001b[0m                 \u001b[0mf_name\u001b[0m \u001b[1;33m=\u001b[0m \u001b[0mf\u001b[0m\u001b[1;33m.\u001b[0m\u001b[0m__name__\u001b[0m\u001b[1;33m.\u001b[0m\u001b[0mreplace\u001b[0m\u001b[1;33m(\u001b[0m\u001b[1;34m\"nan\"\u001b[0m\u001b[1;33m,\u001b[0m \u001b[1;34m\"\"\u001b[0m\u001b[1;33m)\u001b[0m\u001b[1;33m\u001b[0m\u001b[1;33m\u001b[0m\u001b[0m\n\u001b[1;32m---> 88\u001b[1;33m                 raise TypeError(\n\u001b[0m\u001b[0;32m     89\u001b[0m                     \u001b[1;34mf\"reduction operation '{f_name}' not allowed for this dtype\"\u001b[0m\u001b[1;33m\u001b[0m\u001b[1;33m\u001b[0m\u001b[0m\n\u001b[0;32m     90\u001b[0m                 )\n",
      "\u001b[1;31mTypeError\u001b[0m: reduction operation 'argmax' not allowed for this dtype"
     ]
    }
   ],
   "source": [
    "def find_neighbours(value, df, colname):\n",
    "    exactmatch = df[df[colname] == value]\n",
    "    if not exactmatch.empty:\n",
    "        return exactmatch.index\n",
    "    else:\n",
    "        print(type(df[colname][1]))\n",
    "        print(type(value))\n",
    "        lowerneighbour_ind = df[df[colname] < value][colname].idxmax()\n",
    "        return [lowerneighbour_ind]\n",
    "find_neighbours(0.422, steel_pipes_table, 'Id')"
   ]
  },
  {
   "cell_type": "markdown",
   "id": "dd0a4b36",
   "metadata": {},
   "source": [
    "# find dia via velocity"
   ]
  },
  {
   "cell_type": "code",
   "execution_count": 17,
   "id": "321d696e",
   "metadata": {},
   "outputs": [
    {
     "data": {
      "text/plain": [
       "0.467"
      ]
     },
     "execution_count": 17,
     "metadata": {},
     "output_type": "execute_result"
    }
   ],
   "source": [
    "result_index = steel_pipes_table[steel_pipes_table['Id']-0.442 > 0]['Id'].min()\n",
    "result_index#['Id'].min()\n"
   ]
  },
  {
   "cell_type": "code",
   "execution_count": 18,
   "id": "d44d2ea4",
   "metadata": {},
   "outputs": [
    {
     "ename": "TypeError",
     "evalue": "unhashable type: 'Series'",
     "output_type": "error",
     "traceback": [
      "\u001b[1;31m---------------------------------------------------------------------------\u001b[0m",
      "\u001b[1;31mTypeError\u001b[0m                                 Traceback (most recent call last)",
      "\u001b[1;32m~\\AppData\\Local\\Temp/ipykernel_24436/2562413633.py\u001b[0m in \u001b[0;36m<module>\u001b[1;34m\u001b[0m\n\u001b[0;32m      1\u001b[0m \u001b[0mresult_index\u001b[0m \u001b[1;33m=\u001b[0m \u001b[0msteel_pipes_table\u001b[0m\u001b[1;33m[\u001b[0m\u001b[0msteel_pipes_table\u001b[0m\u001b[1;33m[\u001b[0m\u001b[1;34m'Id'\u001b[0m\u001b[1;33m]\u001b[0m\u001b[1;33m-\u001b[0m\u001b[1;36m0.442\u001b[0m \u001b[1;33m>\u001b[0m \u001b[1;36m0\u001b[0m\u001b[1;33m]\u001b[0m\u001b[1;33m[\u001b[0m\u001b[1;34m'Id'\u001b[0m\u001b[1;33m]\u001b[0m\u001b[1;33m.\u001b[0m\u001b[0mmin\u001b[0m\u001b[1;33m(\u001b[0m\u001b[1;33m)\u001b[0m\u001b[1;33m\u001b[0m\u001b[1;33m\u001b[0m\u001b[0m\n\u001b[1;32m----> 2\u001b[1;33m \u001b[0msteel_pipes_table\u001b[0m\u001b[1;33m.\u001b[0m\u001b[0miloc\u001b[0m\u001b[1;33m(\u001b[0m\u001b[0msteel_pipes_table\u001b[0m\u001b[1;33m[\u001b[0m\u001b[0msteel_pipes_table\u001b[0m\u001b[1;33m[\u001b[0m\u001b[1;34m'Id'\u001b[0m\u001b[1;33m]\u001b[0m\u001b[1;33m==\u001b[0m\u001b[0mresult_index\u001b[0m\u001b[1;33m]\u001b[0m\u001b[1;33m[\u001b[0m\u001b[1;34m'ND'\u001b[0m\u001b[1;33m]\u001b[0m\u001b[1;33m)\u001b[0m\u001b[1;33m\u001b[0m\u001b[1;33m\u001b[0m\u001b[0m\n\u001b[0m",
      "\u001b[1;32mC:\\ProgramData\\Anaconda3\\lib\\site-packages\\pandas\\core\\indexing.py\u001b[0m in \u001b[0;36m__call__\u001b[1;34m(self, axis)\u001b[0m\n\u001b[0;32m    635\u001b[0m \u001b[1;33m\u001b[0m\u001b[0m\n\u001b[0;32m    636\u001b[0m         \u001b[1;32mif\u001b[0m \u001b[0maxis\u001b[0m \u001b[1;32mis\u001b[0m \u001b[1;32mnot\u001b[0m \u001b[1;32mNone\u001b[0m\u001b[1;33m:\u001b[0m\u001b[1;33m\u001b[0m\u001b[1;33m\u001b[0m\u001b[0m\n\u001b[1;32m--> 637\u001b[1;33m             \u001b[0maxis\u001b[0m \u001b[1;33m=\u001b[0m \u001b[0mself\u001b[0m\u001b[1;33m.\u001b[0m\u001b[0mobj\u001b[0m\u001b[1;33m.\u001b[0m\u001b[0m_get_axis_number\u001b[0m\u001b[1;33m(\u001b[0m\u001b[0maxis\u001b[0m\u001b[1;33m)\u001b[0m\u001b[1;33m\u001b[0m\u001b[1;33m\u001b[0m\u001b[0m\n\u001b[0m\u001b[0;32m    638\u001b[0m         \u001b[0mnew_self\u001b[0m\u001b[1;33m.\u001b[0m\u001b[0maxis\u001b[0m \u001b[1;33m=\u001b[0m \u001b[0maxis\u001b[0m\u001b[1;33m\u001b[0m\u001b[1;33m\u001b[0m\u001b[0m\n\u001b[0;32m    639\u001b[0m         \u001b[1;32mreturn\u001b[0m \u001b[0mnew_self\u001b[0m\u001b[1;33m\u001b[0m\u001b[1;33m\u001b[0m\u001b[0m\n",
      "\u001b[1;32mC:\\ProgramData\\Anaconda3\\lib\\site-packages\\pandas\\core\\generic.py\u001b[0m in \u001b[0;36m_get_axis_number\u001b[1;34m(cls, axis)\u001b[0m\n\u001b[0;32m    544\u001b[0m     \u001b[1;32mdef\u001b[0m \u001b[0m_get_axis_number\u001b[0m\u001b[1;33m(\u001b[0m\u001b[0mcls\u001b[0m\u001b[1;33m,\u001b[0m \u001b[0maxis\u001b[0m\u001b[1;33m:\u001b[0m \u001b[0mAxis\u001b[0m\u001b[1;33m)\u001b[0m \u001b[1;33m->\u001b[0m \u001b[0mint\u001b[0m\u001b[1;33m:\u001b[0m\u001b[1;33m\u001b[0m\u001b[1;33m\u001b[0m\u001b[0m\n\u001b[0;32m    545\u001b[0m         \u001b[1;32mtry\u001b[0m\u001b[1;33m:\u001b[0m\u001b[1;33m\u001b[0m\u001b[1;33m\u001b[0m\u001b[0m\n\u001b[1;32m--> 546\u001b[1;33m             \u001b[1;32mreturn\u001b[0m \u001b[0mcls\u001b[0m\u001b[1;33m.\u001b[0m\u001b[0m_AXIS_TO_AXIS_NUMBER\u001b[0m\u001b[1;33m[\u001b[0m\u001b[0maxis\u001b[0m\u001b[1;33m]\u001b[0m\u001b[1;33m\u001b[0m\u001b[1;33m\u001b[0m\u001b[0m\n\u001b[0m\u001b[0;32m    547\u001b[0m         \u001b[1;32mexcept\u001b[0m \u001b[0mKeyError\u001b[0m\u001b[1;33m:\u001b[0m\u001b[1;33m\u001b[0m\u001b[1;33m\u001b[0m\u001b[0m\n\u001b[0;32m    548\u001b[0m             \u001b[1;32mraise\u001b[0m \u001b[0mValueError\u001b[0m\u001b[1;33m(\u001b[0m\u001b[1;34mf\"No axis named {axis} for object type {cls.__name__}\"\u001b[0m\u001b[1;33m)\u001b[0m\u001b[1;33m\u001b[0m\u001b[1;33m\u001b[0m\u001b[0m\n",
      "\u001b[1;31mTypeError\u001b[0m: unhashable type: 'Series'"
     ]
    }
   ],
   "source": [
    "result_index = steel_pipes_table[steel_pipes_table['Id']-0.442 > 0]['Id'].min()\n",
    "steel_pipes_table.iloc(steel_pipes_table[steel_pipes_table['Id']==result_index]['ND'])"
   ]
  },
  {
   "cell_type": "markdown",
   "id": "1e7cc0e2",
   "metadata": {},
   "source": [
    "# autocad stuff"
   ]
  },
  {
   "cell_type": "code",
   "execution_count": 2,
   "id": "ed234480",
   "metadata": {},
   "outputs": [],
   "source": [
    "from html import entities\n",
    "import sys\n",
    "import os\n",
    "from pyautocad import Autocad, APoint, aDouble\n",
    "from math import *\n",
    "import pandas as pd\n",
    "\n",
    "sys.path.insert(1,os.getcwd())\n",
    "from utils import eq\n",
    "from entities import entities\n",
    "\n",
    "acad = Autocad(create_if_not_exists=True)\n",
    "\n",
    "\n",
    "'''\n",
    "running on the dwg and sorting it's objects:\n",
    "'''\n",
    "i = 0\n",
    "j = 0\n",
    "pipes_table = pd.DataFrame(columns=['pipe #', 'start', 'end', 'pipe type',\n",
    "    'nominal dia', 'id (mm)', 'length (m)', 'static head (endZ-startZ)', \n",
    "    'flow', 'consumption', 'velocity', 'head loss', 'total head loss', 'start with', 'end with'])\n",
    "pumps_table = pd.DataFrame(columns=['pump #', 'center', 'flow' , 'head','efficiency','start num','power','wetpit min volume','connect to pipe'])\n",
    "\n",
    "for obj in acad.iter_objects_fast():\n",
    "\n",
    "    # print(\"Type of object: \" + obj.ObjectName)\n",
    "    \n",
    "    if obj.ObjectName == \"AcDbLine\":\n",
    "        \n",
    "        # ### Add only a new pipes!!!  ### comment out becuse it's not tolerate with changes!\n",
    "        # if pipes_table[(pipes_table['start'] == str(obj.Startpoint)) & (pipes_table['end'] == str(obj.Endpoint))].empty:\n",
    "        \n",
    "        if obj.Layer.startswith('Pipe_'):\n",
    "            # if obj.Startpoint in pipes_table & obj\n",
    "            pipe_name = 'Pipe '+ str(i+1)\n",
    "            i += 1\n",
    "            tmp,pipetype, nd , consumption= obj.Layer.split('_')\n",
    "            length=obj.Length\n",
    "            static_head=obj.Endpoint[2]-obj.Startpoint[2]\n",
    "            pipe = entities.Pipe(pipetype=pipetype,nominal_dia=float(nd),length=length,static_head=static_head)\n",
    "            pipe.inside_dia = pipe.inside_dia_from_nominal(nd=pipe.nominal_dia)\n",
    "\n",
    "            data = [pipe_name,obj.Startpoint,obj.Endpoint,pipetype,nd,pipe.inside_dia,pipe.length,\n",
    "                        pipe.static_head,\"\",consumption,\"\",\n",
    "                        \"\",\"\",\"\",\"\"]\n",
    "            pipes_table.loc[len(pipes_table)] = data\n",
    "\n",
    "    # if obj.ObjectName == 'AcDbBlockReference':\n",
    "    #     print(obj.Rotation*57.2957795)\n",
    "    #     for obj1 in obj.iter_objects_fast():\n",
    "    #         print(1)\n",
    "\n",
    "    # i = 0\n",
    "    if (obj.Layer.startswith('Pump_')) & (obj.ObjectName == \"AcDbCircle\"):\n",
    "        pump_name = 'Pump '+ str(j+1)\n",
    "        j += 1\n",
    "        tmp,flow = obj.Layer.split('_')\n",
    "        pump = entities.Pump(rated_flow=flow)\n",
    "        efficiency = 0.75 # Will change in the futere \n",
    "        # wetpit = pump.min_wet_pit(flow,8)\n",
    "        data = [pump_name,obj.Center,flow,0,efficiency,'','','','']\n",
    "        pumps_table.loc[len(pumps_table)] = data\n",
    "        #'pump #', 'center', 'flow' , 'head','efficiency','start num','power','wetpit min volume','connect to pipe'\n",
    "# pipes_table['start']\n",
    "\n",
    "pipes_table.set_index(pipes_table['pipe #'],inplace=True)\n",
    "pumps_table.set_index(pumps_table['pump #'],inplace=True)"
   ]
  },
  {
   "cell_type": "code",
   "execution_count": 51,
   "id": "c30840eb",
   "metadata": {},
   "outputs": [
    {
     "name": "stdout",
     "output_type": "stream",
     "text": [
      "pump name:Pump 1\n",
      "Pipe 1\n"
     ]
    },
    {
     "name": "stderr",
     "output_type": "stream",
     "text": [
      "C:\\Users\\avner\\AppData\\Local\\Temp\\ipykernel_36336\\2712501588.py:20: SettingWithCopyWarning: \n",
      "A value is trying to be set on a copy of a slice from a DataFrame\n",
      "\n",
      "See the caveats in the documentation: https://pandas.pydata.org/pandas-docs/stable/user_guide/indexing.html#returning-a-view-versus-a-copy\n",
      "  pipes_table['start with'].iloc[i] = start_with_pump_name\n",
      "C:\\Users\\avner\\AppData\\Local\\Temp\\ipykernel_36336\\2712501588.py:22: SettingWithCopyWarning: \n",
      "A value is trying to be set on a copy of a slice from a DataFrame\n",
      "\n",
      "See the caveats in the documentation: https://pandas.pydata.org/pandas-docs/stable/user_guide/indexing.html#returning-a-view-versus-a-copy\n",
      "  pumps_table['connect to pipe'][start_with_pump_name] = pipes_table['pipe #'].iloc[i]\n",
      "C:\\Users\\avner\\AppData\\Local\\Temp\\ipykernel_36336\\2712501588.py:29: SettingWithCopyWarning: \n",
      "A value is trying to be set on a copy of a slice from a DataFrame\n",
      "\n",
      "See the caveats in the documentation: https://pandas.pydata.org/pandas-docs/stable/user_guide/indexing.html#returning-a-view-versus-a-copy\n",
      "  pipes_table['end with'].iloc[i] = end_with_pipe_name\n",
      "C:\\Users\\avner\\AppData\\Local\\Temp\\ipykernel_36336\\2712501588.py:13: SettingWithCopyWarning: \n",
      "A value is trying to be set on a copy of a slice from a DataFrame\n",
      "\n",
      "See the caveats in the documentation: https://pandas.pydata.org/pandas-docs/stable/user_guide/indexing.html#returning-a-view-versus-a-copy\n",
      "  pipes_table['start with'].iloc[i] = start_with_pipe_name\n"
     ]
    },
    {
     "data": {
      "text/html": [
       "<div>\n",
       "<style scoped>\n",
       "    .dataframe tbody tr th:only-of-type {\n",
       "        vertical-align: middle;\n",
       "    }\n",
       "\n",
       "    .dataframe tbody tr th {\n",
       "        vertical-align: top;\n",
       "    }\n",
       "\n",
       "    .dataframe thead th {\n",
       "        text-align: right;\n",
       "    }\n",
       "</style>\n",
       "<table border=\"1\" class=\"dataframe\">\n",
       "  <thead>\n",
       "    <tr style=\"text-align: right;\">\n",
       "      <th></th>\n",
       "      <th>pump #</th>\n",
       "      <th>center</th>\n",
       "      <th>flow</th>\n",
       "      <th>head</th>\n",
       "      <th>efficiency</th>\n",
       "      <th>start num</th>\n",
       "      <th>power</th>\n",
       "      <th>wetpit min volume</th>\n",
       "      <th>connect to pipe</th>\n",
       "    </tr>\n",
       "    <tr>\n",
       "      <th>pump #</th>\n",
       "      <th></th>\n",
       "      <th></th>\n",
       "      <th></th>\n",
       "      <th></th>\n",
       "      <th></th>\n",
       "      <th></th>\n",
       "      <th></th>\n",
       "      <th></th>\n",
       "      <th></th>\n",
       "    </tr>\n",
       "  </thead>\n",
       "  <tbody>\n",
       "    <tr>\n",
       "      <th>Pump 1</th>\n",
       "      <td>Pump 1</td>\n",
       "      <td>(21.5668043743036, 11.188186431626036, -5.0)</td>\n",
       "      <td>1500</td>\n",
       "      <td>0</td>\n",
       "      <td>0.75</td>\n",
       "      <td></td>\n",
       "      <td></td>\n",
       "      <td></td>\n",
       "      <td>Pipe 1</td>\n",
       "    </tr>\n",
       "  </tbody>\n",
       "</table>\n",
       "</div>"
      ],
      "text/plain": [
       "        pump #                                        center  flow  head  \\\n",
       "pump #                                                                     \n",
       "Pump 1  Pump 1  (21.5668043743036, 11.188186431626036, -5.0)  1500     0   \n",
       "\n",
       "        efficiency start num power wetpit min volume connect to pipe  \n",
       "pump #                                                                \n",
       "Pump 1        0.75                                            Pipe 1  "
      ]
     },
     "execution_count": 51,
     "metadata": {},
     "output_type": "execute_result"
    }
   ],
   "source": [
    "for i in range (len(pipes_table)):\n",
    "    start_with_pipe_name = ''\n",
    "    end_with_pipe_name = ''\n",
    "#     print(f'i={i}')\n",
    "    i_start_at = pipes_table['start'].iloc[i]\n",
    "    i_end_at = pipes_table['end'].iloc[i]\n",
    "    # print(i_start_at[0])\n",
    "    # if pipes_table[pipes_table['start']\n",
    "    if not (pipes_table[pipes_table['end'] == i_start_at].empty):\n",
    "#         print(f'pipe {i+1} is connected at point {a1}!')\n",
    "        i_start_with = pipes_table[pipes_table['end'] == i_start_at]\n",
    "        start_with_pipe_name = ', '.join(i_start_with['pipe #'])\n",
    "        pipes_table['start with'].iloc[i] = start_with_pipe_name\n",
    "    else:\n",
    "        if not (pumps_table[pumps_table['center'] == i_start_at].empty):\n",
    "            i_start_with = pumps_table[pumps_table['center'] == i_start_at]\n",
    "            # print (i_start_with)\n",
    "            start_with_pump_name = ', '.join(i_start_with['pump #'])\n",
    "            print(f'pump name:{start_with_pump_name}')\n",
    "            pipes_table['start with'].iloc[i] = start_with_pump_name\n",
    "            print(pipes_table['pipe #'].iloc[i])\n",
    "            pumps_table['connect to pipe'][start_with_pump_name] = pipes_table['pipe #'].iloc[i]\n",
    "\n",
    "\n",
    "    if not (pipes_table[pipes_table['start'] == i_end_at].empty):\n",
    "#         print(f'pipe {i+1} is delivered to point {a2}!')\n",
    "        i_end_with = pipes_table[pipes_table['start'] == i_end_at]\n",
    "        end_with_pipe_name = ', '.join(i_end_with['pipe #'])\n",
    "        pipes_table['end with'].iloc[i] = end_with_pipe_name\n",
    "    \n",
    "pumps_table    \n",
    "# pipes_table['start with']"
   ]
  },
  {
   "cell_type": "code",
   "execution_count": 3,
   "id": "f5b198f6",
   "metadata": {},
   "outputs": [
    {
     "data": {
      "text/html": [
       "<div>\n",
       "<style scoped>\n",
       "    .dataframe tbody tr th:only-of-type {\n",
       "        vertical-align: middle;\n",
       "    }\n",
       "\n",
       "    .dataframe tbody tr th {\n",
       "        vertical-align: top;\n",
       "    }\n",
       "\n",
       "    .dataframe thead th {\n",
       "        text-align: right;\n",
       "    }\n",
       "</style>\n",
       "<table border=\"1\" class=\"dataframe\">\n",
       "  <thead>\n",
       "    <tr style=\"text-align: right;\">\n",
       "      <th></th>\n",
       "      <th>pump #</th>\n",
       "      <th>center</th>\n",
       "      <th>flow</th>\n",
       "      <th>head</th>\n",
       "      <th>efficiency</th>\n",
       "      <th>start num</th>\n",
       "      <th>power</th>\n",
       "      <th>wetpit min volume</th>\n",
       "      <th>connect to pipe</th>\n",
       "    </tr>\n",
       "    <tr>\n",
       "      <th>pump #</th>\n",
       "      <th></th>\n",
       "      <th></th>\n",
       "      <th></th>\n",
       "      <th></th>\n",
       "      <th></th>\n",
       "      <th></th>\n",
       "      <th></th>\n",
       "      <th></th>\n",
       "      <th></th>\n",
       "    </tr>\n",
       "  </thead>\n",
       "  <tbody>\n",
       "  </tbody>\n",
       "</table>\n",
       "</div>"
      ],
      "text/plain": [
       "Empty DataFrame\n",
       "Columns: [pump #, center, flow, head, efficiency, start num, power, wetpit min volume, connect to pipe]\n",
       "Index: []"
      ]
     },
     "execution_count": 3,
     "metadata": {},
     "output_type": "execute_result"
    }
   ],
   "source": [
    "pipes_table\n",
    "pumps_table"
   ]
  },
  {
   "cell_type": "code",
   "execution_count": null,
   "id": "64345965",
   "metadata": {},
   "outputs": [],
   "source": []
  },
  {
   "cell_type": "code",
   "execution_count": 59,
   "id": "08b04a8d",
   "metadata": {},
   "outputs": [
    {
     "name": "stdout",
     "output_type": "stream",
     "text": [
      "0.125\n"
     ]
    },
    {
     "data": {
      "text/plain": [
       "46.875"
      ]
     },
     "execution_count": 59,
     "metadata": {},
     "output_type": "execute_result"
    }
   ],
   "source": [
    "def min_wet_pit(flow_rate,starts_num):\n",
    "        \n",
    "        cycle_time = 60/starts_num/60\n",
    "        print(cycle_time)\n",
    "        return (flow_rate*cycle_time/4)\n",
    "\n",
    "min_wet_pit(1500,8)"
   ]
  },
  {
   "cell_type": "code",
   "execution_count": 65,
   "id": "ea86603a",
   "metadata": {},
   "outputs": [
    {
     "data": {
      "text/plain": [
       "326.797385620915"
      ]
     },
     "execution_count": 65,
     "metadata": {},
     "output_type": "execute_result"
    }
   ],
   "source": [
    "\n",
    "def power( flow_rate,head,eff=1):\n",
    "\n",
    "    # '''\n",
    "    # if the flow value is less than 4 \n",
    "    # it assuming that the units are m^3/second. \n",
    "    # if it's more then that the units are in m^3/hour\n",
    "    # '''\n",
    "\n",
    "    # if flow_rate > 4:\n",
    "    #     unit_convert = 3600\n",
    "    # else:\n",
    "    #     unit_convert = 3.6\n",
    "    # print (unit_convert)\n",
    "    # if eff > 1 :\n",
    "    #     eff /= 1000\n",
    "    # print(eff)\n",
    "    return (((flow_rate/3.6)*head)/102)/eff\n",
    "\n",
    "power(1500,60,0.75)"
   ]
  },
  {
   "cell_type": "markdown",
   "id": "f959d38f",
   "metadata": {},
   "source": [
    "# add text to autocad file"
   ]
  },
  {
   "cell_type": "code",
   "execution_count": 70,
   "id": "36615b4e",
   "metadata": {},
   "outputs": [
    {
     "ename": "AttributeError",
     "evalue": "'tuple' object has no attribute 'x'",
     "output_type": "error",
     "traceback": [
      "\u001b[1;31m---------------------------------------------------------------------------\u001b[0m",
      "\u001b[1;31mAttributeError\u001b[0m                            Traceback (most recent call last)",
      "\u001b[1;32mc:\\Users\\avner\\google drive\\Python\\Apps\\Avner autocad network solver\\tests.ipynb Cell 20\u001b[0m in \u001b[0;36m<cell line: 1>\u001b[1;34m()\u001b[0m\n\u001b[1;32m----> <a href='vscode-notebook-cell:/c%3A/Users/avner/google%20drive/Python/Apps/Avner%20autocad%20network%20solver/tests.ipynb#X31sZmlsZQ%3D%3D?line=0'>1</a>\u001b[0m pumps_table[\u001b[39m'\u001b[39m\u001b[39mcenter\u001b[39m\u001b[39m'\u001b[39m][\u001b[39m0\u001b[39m]\u001b[39m.\u001b[39mx \u001b[39m+\u001b[39m\u001b[39m=\u001b[39m\u001b[39m3\u001b[39m\n",
      "\u001b[1;31mAttributeError\u001b[0m: 'tuple' object has no attribute 'x'"
     ]
    }
   ],
   "source": [
    "pumps_table['center'][0] +=3\n"
   ]
  },
  {
   "cell_type": "code",
   "execution_count": 78,
   "id": "1f42d102",
   "metadata": {},
   "outputs": [],
   "source": [
    "p1 = APoint(pumps_table['center'][0])\n",
    "p1.y = 30\n",
    "flow = str(pumps_table['pump #'][0])\n",
    "text = acad.model.Addtext(flow,p1,2.5)"
   ]
  },
  {
   "cell_type": "code",
   "execution_count": 84,
   "id": "89001ed3",
   "metadata": {},
   "outputs": [],
   "source": [
    "for i in range(len(pumps_table)):\n",
    "        p1 = APoint(pumps_table['center'][i])\n",
    "        p1.y = 30\n",
    "        pump_name = str(pumps_table['pump #'][i])\n",
    "        text = acad.model.Addtext(pump_name,p1,2.5)\n",
    "        \n",
    "        p1.y -= 10\n",
    "        flow = f\"{pumps_table['flow'][i]} m^3/hr\"\n",
    "        text = acad.model.Addtext(flow,p1,2.5)\n",
    "\n",
    "        p1.y -= 10\n",
    "        head = f\"{pumps_table['head'][i]} m\"\n",
    "        text = acad.model.Addtext(head,p1,2.5)"
   ]
  },
  {
   "cell_type": "code",
   "execution_count": 96,
   "id": "b1432b4d",
   "metadata": {},
   "outputs": [],
   "source": [
    "p1 = APoint(pipes_table['start'][0])\n",
    "p2 = APoint(pipes_table['end'][0])\n",
    "p3 = (p2+p1)/2\n",
    "p3.y = 80\n",
    "vertex_text1 = f'Vertex number: {0+1}'\n",
    "vertex_text2 = f'nZ={p1.z}'\n",
    "text = acad.model.Addtext(vertex_text1,p1,2.5)\n",
    "p1.y -= 10\n",
    "text = acad.model.Addtext(vertex_text2,p1,2.5)"
   ]
  },
  {
   "cell_type": "code",
   "execution_count": 4,
   "id": "fd695972",
   "metadata": {},
   "outputs": [
    {
     "data": {
      "text/html": [
       "<div>\n",
       "<style scoped>\n",
       "    .dataframe tbody tr th:only-of-type {\n",
       "        vertical-align: middle;\n",
       "    }\n",
       "\n",
       "    .dataframe tbody tr th {\n",
       "        vertical-align: top;\n",
       "    }\n",
       "\n",
       "    .dataframe thead th {\n",
       "        text-align: right;\n",
       "    }\n",
       "</style>\n",
       "<table border=\"1\" class=\"dataframe\">\n",
       "  <thead>\n",
       "    <tr style=\"text-align: right;\">\n",
       "      <th></th>\n",
       "      <th>pump #</th>\n",
       "      <th>center</th>\n",
       "      <th>flow</th>\n",
       "      <th>head</th>\n",
       "      <th>efficiency</th>\n",
       "      <th>start num</th>\n",
       "      <th>power</th>\n",
       "      <th>wetpit min volume</th>\n",
       "      <th>connect to pipe</th>\n",
       "    </tr>\n",
       "  </thead>\n",
       "  <tbody>\n",
       "    <tr>\n",
       "      <th>0</th>\n",
       "      <td>Pump 1</td>\n",
       "      <td>(21.5668043743036, 11.188186431626036, -5.0)</td>\n",
       "      <td>1500</td>\n",
       "      <td>49.145897</td>\n",
       "      <td>0.75</td>\n",
       "      <td>8</td>\n",
       "      <td>267.679175</td>\n",
       "      <td>46.875</td>\n",
       "      <td>Pipe 1</td>\n",
       "    </tr>\n",
       "  </tbody>\n",
       "</table>\n",
       "</div>"
      ],
      "text/plain": [
       "   pump #                                        center  flow       head  \\\n",
       "0  Pump 1  (21.5668043743036, 11.188186431626036, -5.0)  1500  49.145897   \n",
       "\n",
       "   efficiency  start num       power  wetpit min volume connect to pipe  \n",
       "0        0.75          8  267.679175             46.875          Pipe 1  "
      ]
     },
     "execution_count": 4,
     "metadata": {},
     "output_type": "execute_result"
    }
   ],
   "source": [
    "pipes_table = pd.read_excel('data\\\\outputs\\\\acad-pipelines.xlsx',sheet_name='Pipes')\n",
    "pumps_table = pd.read_excel('data\\\\outputs\\\\acad-pipelines.xlsx',sheet_name='Pumps')\n",
    "\n",
    "pumps_table"
   ]
  },
  {
   "cell_type": "code",
   "execution_count": 41,
   "id": "b9e18b48",
   "metadata": {},
   "outputs": [
    {
     "name": "stdout",
     "output_type": "stream",
     "text": [
      "(21.5668043743036, 11.188186431626036, -5.0)\n"
     ]
    },
    {
     "ename": "TypeError",
     "evalue": "must be real number, not str",
     "output_type": "error",
     "traceback": [
      "\u001b[1;31m---------------------------------------------------------------------------\u001b[0m",
      "\u001b[1;31mTypeError\u001b[0m                                 Traceback (most recent call last)",
      "\u001b[1;32mc:\\Users\\avner\\google drive\\Python\\Apps\\Avner autocad network solver\\tests.ipynb Cell 25\u001b[0m in \u001b[0;36m<cell line: 1>\u001b[1;34m()\u001b[0m\n\u001b[0;32m      <a href='vscode-notebook-cell:/c%3A/Users/avner/google%20drive/Python/Apps/Avner%20autocad%20network%20solver/tests.ipynb#X32sZmlsZQ%3D%3D?line=0'>1</a>\u001b[0m \u001b[39mfor\u001b[39;00m i \u001b[39min\u001b[39;00m \u001b[39mrange\u001b[39m(\u001b[39mlen\u001b[39m(pumps_table)):\n\u001b[0;32m      <a href='vscode-notebook-cell:/c%3A/Users/avner/google%20drive/Python/Apps/Avner%20autocad%20network%20solver/tests.ipynb#X32sZmlsZQ%3D%3D?line=1'>2</a>\u001b[0m         \u001b[39mprint\u001b[39m(pumps_table[\u001b[39m'\u001b[39m\u001b[39mcenter\u001b[39m\u001b[39m'\u001b[39m][i])\n\u001b[1;32m----> <a href='vscode-notebook-cell:/c%3A/Users/avner/google%20drive/Python/Apps/Avner%20autocad%20network%20solver/tests.ipynb#X32sZmlsZQ%3D%3D?line=2'>3</a>\u001b[0m         p1 \u001b[39m=\u001b[39m APoint(pumps_table[\u001b[39m'\u001b[39;49m\u001b[39mcenter\u001b[39;49m\u001b[39m'\u001b[39;49m][i])\n\u001b[0;32m      <a href='vscode-notebook-cell:/c%3A/Users/avner/google%20drive/Python/Apps/Avner%20autocad%20network%20solver/tests.ipynb#X32sZmlsZQ%3D%3D?line=3'>4</a>\u001b[0m         p1\u001b[39m.\u001b[39my \u001b[39m=\u001b[39m \u001b[39m30\u001b[39m\n\u001b[0;32m      <a href='vscode-notebook-cell:/c%3A/Users/avner/google%20drive/Python/Apps/Avner%20autocad%20network%20solver/tests.ipynb#X32sZmlsZQ%3D%3D?line=4'>5</a>\u001b[0m         pump_name \u001b[39m=\u001b[39m \u001b[39mstr\u001b[39m(pumps_table[\u001b[39m'\u001b[39m\u001b[39mpump #\u001b[39m\u001b[39m'\u001b[39m][i])\n",
      "File \u001b[1;32mc:\\Users\\avner\\AppData\\Local\\Programs\\Python\\Python310\\lib\\site-packages\\pyautocad\\types.py:59\u001b[0m, in \u001b[0;36mAPoint.__new__\u001b[1;34m(cls, x_or_seq, y, z)\u001b[0m\n\u001b[0;32m     57\u001b[0m \u001b[39mif\u001b[39;00m \u001b[39misinstance\u001b[39m(x_or_seq, (array\u001b[39m.\u001b[39marray, \u001b[39mlist\u001b[39m, \u001b[39mtuple\u001b[39m)) \u001b[39mand\u001b[39;00m \u001b[39mlen\u001b[39m(x_or_seq) \u001b[39m==\u001b[39m \u001b[39m3\u001b[39m:\n\u001b[0;32m     58\u001b[0m     \u001b[39mreturn\u001b[39;00m \u001b[39msuper\u001b[39m(APoint, \u001b[39mcls\u001b[39m)\u001b[39m.\u001b[39m\u001b[39m__new__\u001b[39m(\u001b[39mcls\u001b[39m, \u001b[39m'\u001b[39m\u001b[39md\u001b[39m\u001b[39m'\u001b[39m, x_or_seq)\n\u001b[1;32m---> 59\u001b[0m \u001b[39mreturn\u001b[39;00m \u001b[39msuper\u001b[39;49m(APoint, \u001b[39mcls\u001b[39;49m)\u001b[39m.\u001b[39;49m\u001b[39m__new__\u001b[39;49m(\u001b[39mcls\u001b[39;49m, \u001b[39m'\u001b[39;49m\u001b[39md\u001b[39;49m\u001b[39m'\u001b[39;49m, (x_or_seq, y, z))\n",
      "\u001b[1;31mTypeError\u001b[0m: must be real number, not str"
     ]
    }
   ],
   "source": []
  },
  {
   "cell_type": "code",
   "execution_count": 38,
   "id": "e2def691",
   "metadata": {},
   "outputs": [
    {
     "data": {
      "text/plain": [
       "(21.5668043743036, 11.188186431626036, -5.0)"
      ]
     },
     "execution_count": 38,
     "metadata": {},
     "output_type": "execute_result"
    }
   ],
   "source": [
    "# a = [float(i) for i in pumps_table['center'][0]]\n",
    "a = tuple(map(float, pumps_table['center'][0].strip('()').split(',')))\n",
    "a"
   ]
  },
  {
   "cell_type": "code",
   "execution_count": 53,
   "id": "3fa89009",
   "metadata": {},
   "outputs": [],
   "source": [
    "def float_tuple_from_str(string_tuple):\n",
    "    '''\n",
    "    string_tuple = '(1.0,2.0,3.0)'\n",
    "    float_tuple = (1.0,2.0,3.0)\n",
    "    '''\n",
    "    string_tuple.strip('()').split(',')\n",
    "    float_tuple = tuple(map(float, string_tuple.strip('()').split(',')))\n",
    "    return float_tuple\n",
    "\n",
    "def midpoint_betwen_to_points(p1,p2):\n",
    "    p3 = tuple([(p1[i]+p2[i])/2 for i,cor in enumerate(p1)])\n",
    "    return p3"
   ]
  },
  {
   "cell_type": "code",
   "execution_count": 89,
   "metadata": {},
   "outputs": [
    {
     "name": "stdout",
     "output_type": "stream",
     "text": [
      "0     4\n",
      "1     4\n",
      "2     4\n"
     ]
    }
   ],
   "source": [
    "### Pump writing info:\n",
    "for i in range(len(pumps_table)):\n",
    "               \n",
    "        # print(float_tuple_from_excel( pumps_table['center'][i]))\n",
    "\n",
    "        p1 = APoint(float_tuple_from_str(pumps_table['center'][i]))\n",
    "        p1.y = 30\n",
    "        pump_name = str(pumps_table['pump #'][i])\n",
    "        text = acad.model.Addtext(pump_name,p1,2.5)\n",
    "        \n",
    "        p1.y -= 4\n",
    "        flow = f\"flow: {pumps_table['flow'][i]} m^3/hr\"\n",
    "        text = acad.model.Addtext(flow,p1,2.5)\n",
    "\n",
    "        p1.y -= 4\n",
    "        head = f\"head: {pumps_table['head'][i].round(2)} m\"\n",
    "        text = acad.model.Addtext(head,p1,2.5)\n",
    "\n",
    "### Pipe writing info:\n",
    "\n",
    "for i in range(len(pipes_table)):\n",
    "    \n",
    "    p1 = APoint(float_tuple_from_str(pipes_table['start'][i]))\n",
    "\n",
    "    vertex_text1 = f'Vertex number: {i+1}'\n",
    "    vertex_text2 = f'Z={p1.z}'\n",
    "    text = acad.model.Addtext(vertex_text1,p1,2.5)\n",
    "    p1.y -= 4\n",
    "    text = acad.model.Addtext(vertex_text2,p1,2.5)\n",
    "\n",
    "    p2 = APoint(float_tuple_from_str(pipes_table['end'][i]))\n",
    "    p3 = APoint(midpoint_betwen_to_points(p2,p1))\n",
    "    \n",
    "    p3.y += 80\n",
    "\n",
    "    pipe_name = str(pipes_table['pipe #'][i])\n",
    "    text = acad.model.Addtext(pipe_name,p3,2.5)\n",
    "    \n",
    "    p3.y -= 4\n",
    "    \n",
    "    if pipes_table['pipe type'][i] == 'Steel':\n",
    "        units = '\"'\n",
    "    else:\n",
    "        units = 'mm'\n",
    "\n",
    "    pipe_type = f\"{pipes_table['pipe type'][i]} %%C {pipes_table['nominal dia'][i]} {units}\"\n",
    "    text = acad.model.Addtext(pipe_type,p3,2.5)\n",
    "    \n",
    "    p3.y -= 4\n",
    "    length = f\"length: {pipes_table['length (m)'][i]} m\"\n",
    "    text = acad.model.Addtext(flow,p3,2.5)\n",
    "\n",
    "    p3.y -= 4\n",
    "    flow = f\"flow: {pipes_table['flow'][i]} m^3/hr\"\n",
    "    text = acad.model.Addtext(flow,p3,2.5)\n",
    "\n",
    "    p3.y -= 4\n",
    "    flow = f\"Total head loss: {pipes_table['total head loss'][i].round(2)} m\"\n",
    "    text = acad.model.Addtext(flow,p3,2.5)\n",
    "\n",
    "    if i != (len(pipes_table)-1):\n",
    "        print (i, '   ', len(pipes_table))\n",
    "        "
   ]
  },
  {
   "cell_type": "code",
   "execution_count": 76,
   "id": "e312c126",
   "metadata": {},
   "outputs": [
    {
     "name": "stdout",
     "output_type": "stream",
     "text": [
      "(21.5668043743036, 11.188186431626036, -5.0) (517.0784291680882, 78.03300443738927, 10.0)\n"
     ]
    },
    {
     "data": {
      "text/plain": [
       "(269.3226167711959, 44.61059543450765, 2.5)"
      ]
     },
     "execution_count": 76,
     "metadata": {},
     "output_type": "execute_result"
    }
   ],
   "source": [
    "# p1 = APoint(float_tuple_from_str(pipes_table['start'][i]))\n",
    "# p2 = APoint(float_tuple_from_str(pipes_table['end'][i]))\n",
    "p1 = float_tuple_from_str(pipes_table['start'][0])\n",
    "p2 = float_tuple_from_str(pipes_table['end'][0])\n",
    "\n",
    "print(p1,p2)\n",
    "\n",
    "# p3 = (p2+p1)/2\n",
    "p3 = tuple([(p1[i]+p2[i])/2 for i,cor in enumerate(p1)])\n",
    "p3\n"
   ]
  },
  {
   "cell_type": "code",
   "execution_count": 86,
   "id": "faa6168f",
   "metadata": {},
   "outputs": [
    {
     "name": "stdout",
     "output_type": "stream",
     "text": [
      "APoint(517.08, 78.03, 10.00)\n",
      "APoint(-238.99, 1373.55, 3.00)\n",
      "APoint(139.05, 725.79, 6.50)\n"
     ]
    }
   ],
   "source": [
    "def midpoint_betwen_to_points(p1,p2):\n",
    "    p3 = tuple([(p1[i]+p2[i])/2 for i,cor in enumerate(p1)])\n",
    "    return p3\n",
    "\n",
    "p1 = APoint(float_tuple_from_str(pipes_table['start'][1]))\n",
    "p2 = APoint(float_tuple_from_str(pipes_table['end'][1]))\n",
    "p3 = APoint(midpoint_betwen_to_points(p1,p2))\n",
    "print(p1)\n",
    "print(p2)\n",
    "print(p3)"
   ]
  },
  {
   "cell_type": "code",
   "execution_count": 9,
   "id": "d786b014",
   "metadata": {},
   "outputs": [
    {
     "name": "stdout",
     "output_type": "stream",
     "text": [
      "Pipe 1\n"
     ]
    },
    {
     "data": {
      "text/html": [
       "<div>\n",
       "<style scoped>\n",
       "    .dataframe tbody tr th:only-of-type {\n",
       "        vertical-align: middle;\n",
       "    }\n",
       "\n",
       "    .dataframe tbody tr th {\n",
       "        vertical-align: top;\n",
       "    }\n",
       "\n",
       "    .dataframe thead th {\n",
       "        text-align: right;\n",
       "    }\n",
       "</style>\n",
       "<table border=\"1\" class=\"dataframe\">\n",
       "  <thead>\n",
       "    <tr style=\"text-align: right;\">\n",
       "      <th></th>\n",
       "      <th>pipe #</th>\n",
       "      <th>start</th>\n",
       "      <th>end</th>\n",
       "      <th>pipe type</th>\n",
       "      <th>nominal dia</th>\n",
       "      <th>id (mm)</th>\n",
       "      <th>length (m)</th>\n",
       "      <th>static head (endZ-startZ)</th>\n",
       "      <th>flow</th>\n",
       "      <th>consumption</th>\n",
       "      <th>velocity</th>\n",
       "      <th>head loss</th>\n",
       "      <th>total head loss</th>\n",
       "      <th>start with</th>\n",
       "      <th>end with</th>\n",
       "    </tr>\n",
       "  </thead>\n",
       "  <tbody>\n",
       "    <tr>\n",
       "      <th>0</th>\n",
       "      <td>Pipe 1</td>\n",
       "      <td>(21.5668043743036, 11.188186431626036, -5.0)</td>\n",
       "      <td>(517.0784291680882, 78.03300443738927, 10.0)</td>\n",
       "      <td>PE100-16</td>\n",
       "      <td>800</td>\n",
       "      <td>654.8</td>\n",
       "      <td>500.224949</td>\n",
       "      <td>15.0</td>\n",
       "      <td></td>\n",
       "      <td>500</td>\n",
       "      <td></td>\n",
       "      <td></td>\n",
       "      <td></td>\n",
       "      <td></td>\n",
       "      <td></td>\n",
       "    </tr>\n",
       "  </tbody>\n",
       "</table>\n",
       "</div>"
      ],
      "text/plain": [
       "   pipe #                                         start  \\\n",
       "0  Pipe 1  (21.5668043743036, 11.188186431626036, -5.0)   \n",
       "\n",
       "                                            end pipe type nominal dia  \\\n",
       "0  (517.0784291680882, 78.03300443738927, 10.0)  PE100-16         800   \n",
       "\n",
       "   id (mm)  length (m)  static head (endZ-startZ) flow consumption velocity  \\\n",
       "0    654.8  500.224949                       15.0              500            \n",
       "\n",
       "  head loss total head loss start with end with  \n",
       "0                                                "
      ]
     },
     "execution_count": 9,
     "metadata": {},
     "output_type": "execute_result"
    }
   ],
   "source": [
    "acad = Autocad(create_if_not_exists=True)\n",
    "\n",
    "def dwg_objects_sorting(acad):\n",
    "    '''\n",
    "    running on the dwg and sorting it's objects:\n",
    "    '''\n",
    "    i = 0\n",
    "    j = 0\n",
    "    pipes_table = pd.DataFrame(columns=['pipe #', 'start', 'end', 'pipe type',\n",
    "        'nominal dia', 'id (mm)', 'length (m)', 'static head (endZ-startZ)', \n",
    "        'flow', 'consumption', 'velocity', 'head loss', 'total head loss', 'start with', 'end with'])\n",
    "    pumps_table = pd.DataFrame(columns=['pump #', 'center', 'flow' , 'head','efficiency','start num','power','wetpit min volume','connect to pipe'])\n",
    "\n",
    "    for obj in acad.iter_objects_fast():\n",
    "\n",
    "        # print(\"Type of object: \" + obj.ObjectName)\n",
    "        \n",
    "        if obj.ObjectName == \"AcDbLine\":\n",
    "            \n",
    "            # ### Add only a new pipes!!!  ### comment out becuse it's not tolerate with changes!\n",
    "            # if pipes_table[(pipes_table['start'] == str(obj.Startpoint)) & (pipes_table['end'] == str(obj.Endpoint))].empty:\n",
    "            \n",
    "            if obj.Layer.startswith('Pipe_'):\n",
    "                # if obj.Startpoint in pipes_table & obj\n",
    "                pipe_name = 'Pipe '+ str(i+1)\n",
    "                print(pipe_name)\n",
    "                i += 1\n",
    "                tmp,pipetype, nd , consumption= obj.Layer.split('_')\n",
    "                length=obj.Length\n",
    "                static_head=obj.Endpoint[2]-obj.Startpoint[2]\n",
    "                pipe = entities.Pipe(pipetype=pipetype,nominal_dia=float(nd),length=length,static_head=static_head)\n",
    "                pipe.inside_dia = pipe.inside_dia_from_nominal(nd=pipe.nominal_dia)\n",
    "\n",
    "                data = [pipe_name,obj.Startpoint,obj.Endpoint,pipetype,nd,pipe.inside_dia,pipe.length,\n",
    "                            pipe.static_head,\"\",consumption,\"\",\n",
    "                            \"\",\"\",\"\",\"\"]\n",
    "                pipes_table.loc[len(pipes_table)] = data\n",
    "                return pipes_table\n",
    "\n",
    "pipes_table = dwg_objects_sorting(acad=acad)\n",
    "pipes_table"
   ]
  },
  {
   "cell_type": "code",
   "execution_count": 103,
   "id": "15728432",
   "metadata": {},
   "outputs": [
    {
     "name": "stdout",
     "output_type": "stream",
     "text": [
      "500\n",
      "100\n",
      "300\n",
      "500\n",
      "[None, None, None, None]\n"
     ]
    }
   ],
   "source": [
    "pump_flow = [print (i) for i in pipes_table['consumption']]\n",
    "print(pump_flow)"
   ]
  },
  {
   "cell_type": "code",
   "execution_count": 112,
   "id": "84da0109",
   "metadata": {},
   "outputs": [
    {
     "data": {
      "text/plain": [
       "[1400]"
      ]
     },
     "execution_count": 112,
     "metadata": {},
     "output_type": "execute_result"
    }
   ],
   "source": [
    "\n",
    "[sum(x for x in pipes_table['consumption'])]\n",
    "    "
   ]
  },
  {
   "cell_type": "code",
   "execution_count": 12,
   "id": "9c4d654f",
   "metadata": {},
   "outputs": [
    {
     "data": {
      "text/html": [
       "<div>\n",
       "<style scoped>\n",
       "    .dataframe tbody tr th:only-of-type {\n",
       "        vertical-align: middle;\n",
       "    }\n",
       "\n",
       "    .dataframe tbody tr th {\n",
       "        vertical-align: top;\n",
       "    }\n",
       "\n",
       "    .dataframe thead th {\n",
       "        text-align: right;\n",
       "    }\n",
       "</style>\n",
       "<table border=\"1\" class=\"dataframe\">\n",
       "  <thead>\n",
       "    <tr style=\"text-align: right;\">\n",
       "      <th></th>\n",
       "      <th>pipe #</th>\n",
       "      <th>start</th>\n",
       "      <th>end</th>\n",
       "      <th>pipe type</th>\n",
       "      <th>nominal dia</th>\n",
       "      <th>id (mm)</th>\n",
       "      <th>length (m)</th>\n",
       "      <th>static head (endZ-startZ)</th>\n",
       "      <th>flow</th>\n",
       "      <th>consumption</th>\n",
       "      <th>velocity</th>\n",
       "      <th>head loss</th>\n",
       "      <th>total head loss</th>\n",
       "      <th>start with</th>\n",
       "      <th>end with</th>\n",
       "    </tr>\n",
       "    <tr>\n",
       "      <th>pipe #</th>\n",
       "      <th></th>\n",
       "      <th></th>\n",
       "      <th></th>\n",
       "      <th></th>\n",
       "      <th></th>\n",
       "      <th></th>\n",
       "      <th></th>\n",
       "      <th></th>\n",
       "      <th></th>\n",
       "      <th></th>\n",
       "      <th></th>\n",
       "      <th></th>\n",
       "      <th></th>\n",
       "      <th></th>\n",
       "      <th></th>\n",
       "    </tr>\n",
       "  </thead>\n",
       "  <tbody>\n",
       "    <tr>\n",
       "      <th>Pipe 1</th>\n",
       "      <td>Pipe 1</td>\n",
       "      <td>(21.5668043743036, 11.188186431626036, -5.0)</td>\n",
       "      <td>(517.0784291680882, 78.03300443738927, 10.0)</td>\n",
       "      <td>PE100-16</td>\n",
       "      <td>800</td>\n",
       "      <td>654.8</td>\n",
       "      <td>500.224949</td>\n",
       "      <td>15.0</td>\n",
       "      <td></td>\n",
       "      <td>500</td>\n",
       "      <td></td>\n",
       "      <td></td>\n",
       "      <td></td>\n",
       "      <td></td>\n",
       "      <td></td>\n",
       "    </tr>\n",
       "    <tr>\n",
       "      <th>Pipe 2</th>\n",
       "      <td>Pipe 2</td>\n",
       "      <td>(517.0784291680882, 78.03300443738927, 10.0)</td>\n",
       "      <td>(-238.98518323144583, 1373.551361700368, 3.0)</td>\n",
       "      <td>Steel</td>\n",
       "      <td>20</td>\n",
       "      <td>484.0</td>\n",
       "      <td>1500.016333</td>\n",
       "      <td>-7.0</td>\n",
       "      <td></td>\n",
       "      <td>100</td>\n",
       "      <td></td>\n",
       "      <td></td>\n",
       "      <td></td>\n",
       "      <td></td>\n",
       "      <td></td>\n",
       "    </tr>\n",
       "    <tr>\n",
       "      <th>Pipe 3</th>\n",
       "      <td>Pipe 3</td>\n",
       "      <td>(-238.98518323144583, 1373.551361700368, 3.0)</td>\n",
       "      <td>(-414.49772705744687, 1070.7389660496515, 5.0)</td>\n",
       "      <td>PE100-10</td>\n",
       "      <td>500</td>\n",
       "      <td>440.6</td>\n",
       "      <td>350.005714</td>\n",
       "      <td>2.0</td>\n",
       "      <td></td>\n",
       "      <td>300</td>\n",
       "      <td></td>\n",
       "      <td></td>\n",
       "      <td></td>\n",
       "      <td></td>\n",
       "      <td></td>\n",
       "    </tr>\n",
       "    <tr>\n",
       "      <th>Pipe 4</th>\n",
       "      <td>Pipe 4</td>\n",
       "      <td>(-414.49772705744687, 1070.7389660496515, 5.0)</td>\n",
       "      <td>(-1225.3991087248933, 1332.1290115407974, 10.0)</td>\n",
       "      <td>PE100-12.5</td>\n",
       "      <td>315</td>\n",
       "      <td>268.6</td>\n",
       "      <td>852.003995</td>\n",
       "      <td>5.0</td>\n",
       "      <td></td>\n",
       "      <td>500</td>\n",
       "      <td></td>\n",
       "      <td></td>\n",
       "      <td></td>\n",
       "      <td></td>\n",
       "      <td></td>\n",
       "    </tr>\n",
       "  </tbody>\n",
       "</table>\n",
       "</div>"
      ],
      "text/plain": [
       "        pipe #                                           start  \\\n",
       "pipe #                                                           \n",
       "Pipe 1  Pipe 1    (21.5668043743036, 11.188186431626036, -5.0)   \n",
       "Pipe 2  Pipe 2    (517.0784291680882, 78.03300443738927, 10.0)   \n",
       "Pipe 3  Pipe 3   (-238.98518323144583, 1373.551361700368, 3.0)   \n",
       "Pipe 4  Pipe 4  (-414.49772705744687, 1070.7389660496515, 5.0)   \n",
       "\n",
       "                                                    end   pipe type  \\\n",
       "pipe #                                                                \n",
       "Pipe 1     (517.0784291680882, 78.03300443738927, 10.0)    PE100-16   \n",
       "Pipe 2    (-238.98518323144583, 1373.551361700368, 3.0)       Steel   \n",
       "Pipe 3   (-414.49772705744687, 1070.7389660496515, 5.0)    PE100-10   \n",
       "Pipe 4  (-1225.3991087248933, 1332.1290115407974, 10.0)  PE100-12.5   \n",
       "\n",
       "       nominal dia  id (mm)   length (m)  static head (endZ-startZ) flow  \\\n",
       "pipe #                                                                     \n",
       "Pipe 1         800    654.8   500.224949                       15.0        \n",
       "Pipe 2          20    484.0  1500.016333                       -7.0        \n",
       "Pipe 3         500    440.6   350.005714                        2.0        \n",
       "Pipe 4         315    268.6   852.003995                        5.0        \n",
       "\n",
       "       consumption velocity head loss total head loss start with end with  \n",
       "pipe #                                                                     \n",
       "Pipe 1         500                                                         \n",
       "Pipe 2         100                                                         \n",
       "Pipe 3         300                                                         \n",
       "Pipe 4         500                                                         "
      ]
     },
     "execution_count": 12,
     "metadata": {},
     "output_type": "execute_result"
    }
   ],
   "source": [
    "pipes_table"
   ]
  },
  {
   "cell_type": "code",
   "execution_count": 19,
   "id": "74d62f5b",
   "metadata": {},
   "outputs": [
    {
     "name": "stdout",
     "output_type": "stream",
     "text": [
      "PE100-16 . ID =  515.6\n",
      "1400.0\n",
      "1400.0\n",
      "Steel . ID =  433\n",
      "900.0\n",
      "900.0\n",
      "PE100-10 . ID =  396.6\n",
      "800.0\n",
      "800.0\n"
     ]
    },
    {
     "name": "stderr",
     "output_type": "stream",
     "text": [
      "C:\\Users\\avner\\AppData\\Local\\Temp\\ipykernel_19320\\1311536993.py:16: SettingWithCopyWarning: \n",
      "A value is trying to be set on a copy of a slice from a DataFrame\n",
      "\n",
      "See the caveats in the documentation: https://pandas.pydata.org/pandas-docs/stable/user_guide/indexing.html#returning-a-view-versus-a-copy\n",
      "  pipes_table['velocity'][i] = velocity\n",
      "C:\\Users\\avner\\AppData\\Local\\Temp\\ipykernel_19320\\1311536993.py:17: SettingWithCopyWarning: \n",
      "A value is trying to be set on a copy of a slice from a DataFrame\n",
      "\n",
      "See the caveats in the documentation: https://pandas.pydata.org/pandas-docs/stable/user_guide/indexing.html#returning-a-view-versus-a-copy\n",
      "  pipes_table['head loss'][i] = head_loss\n",
      "C:\\Users\\avner\\AppData\\Local\\Temp\\ipykernel_19320\\1311536993.py:18: SettingWithCopyWarning: \n",
      "A value is trying to be set on a copy of a slice from a DataFrame\n",
      "\n",
      "See the caveats in the documentation: https://pandas.pydata.org/pandas-docs/stable/user_guide/indexing.html#returning-a-view-versus-a-copy\n",
      "  pipes_table['total head loss'][i] = total_headloss\n",
      "C:\\Users\\avner\\AppData\\Local\\Temp\\ipykernel_19320\\1311536993.py:19: SettingWithCopyWarning: \n",
      "A value is trying to be set on a copy of a slice from a DataFrame\n",
      "\n",
      "See the caveats in the documentation: https://pandas.pydata.org/pandas-docs/stable/user_guide/indexing.html#returning-a-view-versus-a-copy\n",
      "  pipes_table['nominal dia'][i] = pipe1.nominal_dia\n",
      "C:\\Users\\avner\\AppData\\Local\\Temp\\ipykernel_19320\\1311536993.py:20: SettingWithCopyWarning: \n",
      "A value is trying to be set on a copy of a slice from a DataFrame\n",
      "\n",
      "See the caveats in the documentation: https://pandas.pydata.org/pandas-docs/stable/user_guide/indexing.html#returning-a-view-versus-a-copy\n",
      "  pipes_table['id (mm)'][i] = pipe1.nominal_dia\n",
      "C:\\Users\\avner\\AppData\\Local\\Temp\\ipykernel_19320\\1311536993.py:16: SettingWithCopyWarning: \n",
      "A value is trying to be set on a copy of a slice from a DataFrame\n",
      "\n",
      "See the caveats in the documentation: https://pandas.pydata.org/pandas-docs/stable/user_guide/indexing.html#returning-a-view-versus-a-copy\n",
      "  pipes_table['velocity'][i] = velocity\n",
      "C:\\Users\\avner\\AppData\\Local\\Temp\\ipykernel_19320\\1311536993.py:17: SettingWithCopyWarning: \n",
      "A value is trying to be set on a copy of a slice from a DataFrame\n",
      "\n",
      "See the caveats in the documentation: https://pandas.pydata.org/pandas-docs/stable/user_guide/indexing.html#returning-a-view-versus-a-copy\n",
      "  pipes_table['head loss'][i] = head_loss\n",
      "C:\\Users\\avner\\AppData\\Local\\Temp\\ipykernel_19320\\1311536993.py:18: SettingWithCopyWarning: \n",
      "A value is trying to be set on a copy of a slice from a DataFrame\n",
      "\n",
      "See the caveats in the documentation: https://pandas.pydata.org/pandas-docs/stable/user_guide/indexing.html#returning-a-view-versus-a-copy\n",
      "  pipes_table['total head loss'][i] = total_headloss\n",
      "C:\\Users\\avner\\AppData\\Local\\Temp\\ipykernel_19320\\1311536993.py:19: SettingWithCopyWarning: \n",
      "A value is trying to be set on a copy of a slice from a DataFrame\n",
      "\n",
      "See the caveats in the documentation: https://pandas.pydata.org/pandas-docs/stable/user_guide/indexing.html#returning-a-view-versus-a-copy\n",
      "  pipes_table['nominal dia'][i] = pipe1.nominal_dia\n",
      "C:\\Users\\avner\\AppData\\Local\\Temp\\ipykernel_19320\\1311536993.py:20: SettingWithCopyWarning: \n",
      "A value is trying to be set on a copy of a slice from a DataFrame\n",
      "\n",
      "See the caveats in the documentation: https://pandas.pydata.org/pandas-docs/stable/user_guide/indexing.html#returning-a-view-versus-a-copy\n",
      "  pipes_table['id (mm)'][i] = pipe1.nominal_dia\n",
      "C:\\Users\\avner\\AppData\\Local\\Temp\\ipykernel_19320\\1311536993.py:16: SettingWithCopyWarning: \n",
      "A value is trying to be set on a copy of a slice from a DataFrame\n",
      "\n",
      "See the caveats in the documentation: https://pandas.pydata.org/pandas-docs/stable/user_guide/indexing.html#returning-a-view-versus-a-copy\n",
      "  pipes_table['velocity'][i] = velocity\n",
      "C:\\Users\\avner\\AppData\\Local\\Temp\\ipykernel_19320\\1311536993.py:17: SettingWithCopyWarning: \n",
      "A value is trying to be set on a copy of a slice from a DataFrame\n",
      "\n",
      "See the caveats in the documentation: https://pandas.pydata.org/pandas-docs/stable/user_guide/indexing.html#returning-a-view-versus-a-copy\n",
      "  pipes_table['head loss'][i] = head_loss\n"
     ]
    },
    {
     "name": "stdout",
     "output_type": "stream",
     "text": [
      "PE100-12.5 . ID =  302.8\n",
      "500.0\n",
      "500.0\n"
     ]
    },
    {
     "name": "stderr",
     "output_type": "stream",
     "text": [
      "C:\\Users\\avner\\AppData\\Local\\Temp\\ipykernel_19320\\1311536993.py:18: SettingWithCopyWarning: \n",
      "A value is trying to be set on a copy of a slice from a DataFrame\n",
      "\n",
      "See the caveats in the documentation: https://pandas.pydata.org/pandas-docs/stable/user_guide/indexing.html#returning-a-view-versus-a-copy\n",
      "  pipes_table['total head loss'][i] = total_headloss\n",
      "C:\\Users\\avner\\AppData\\Local\\Temp\\ipykernel_19320\\1311536993.py:19: SettingWithCopyWarning: \n",
      "A value is trying to be set on a copy of a slice from a DataFrame\n",
      "\n",
      "See the caveats in the documentation: https://pandas.pydata.org/pandas-docs/stable/user_guide/indexing.html#returning-a-view-versus-a-copy\n",
      "  pipes_table['nominal dia'][i] = pipe1.nominal_dia\n",
      "C:\\Users\\avner\\AppData\\Local\\Temp\\ipykernel_19320\\1311536993.py:20: SettingWithCopyWarning: \n",
      "A value is trying to be set on a copy of a slice from a DataFrame\n",
      "\n",
      "See the caveats in the documentation: https://pandas.pydata.org/pandas-docs/stable/user_guide/indexing.html#returning-a-view-versus-a-copy\n",
      "  pipes_table['id (mm)'][i] = pipe1.nominal_dia\n",
      "C:\\Users\\avner\\AppData\\Local\\Temp\\ipykernel_19320\\1311536993.py:16: SettingWithCopyWarning: \n",
      "A value is trying to be set on a copy of a slice from a DataFrame\n",
      "\n",
      "See the caveats in the documentation: https://pandas.pydata.org/pandas-docs/stable/user_guide/indexing.html#returning-a-view-versus-a-copy\n",
      "  pipes_table['velocity'][i] = velocity\n",
      "C:\\Users\\avner\\AppData\\Local\\Temp\\ipykernel_19320\\1311536993.py:17: SettingWithCopyWarning: \n",
      "A value is trying to be set on a copy of a slice from a DataFrame\n",
      "\n",
      "See the caveats in the documentation: https://pandas.pydata.org/pandas-docs/stable/user_guide/indexing.html#returning-a-view-versus-a-copy\n",
      "  pipes_table['head loss'][i] = head_loss\n",
      "C:\\Users\\avner\\AppData\\Local\\Temp\\ipykernel_19320\\1311536993.py:18: SettingWithCopyWarning: \n",
      "A value is trying to be set on a copy of a slice from a DataFrame\n",
      "\n",
      "See the caveats in the documentation: https://pandas.pydata.org/pandas-docs/stable/user_guide/indexing.html#returning-a-view-versus-a-copy\n",
      "  pipes_table['total head loss'][i] = total_headloss\n",
      "C:\\Users\\avner\\AppData\\Local\\Temp\\ipykernel_19320\\1311536993.py:19: SettingWithCopyWarning: \n",
      "A value is trying to be set on a copy of a slice from a DataFrame\n",
      "\n",
      "See the caveats in the documentation: https://pandas.pydata.org/pandas-docs/stable/user_guide/indexing.html#returning-a-view-versus-a-copy\n",
      "  pipes_table['nominal dia'][i] = pipe1.nominal_dia\n",
      "C:\\Users\\avner\\AppData\\Local\\Temp\\ipykernel_19320\\1311536993.py:20: SettingWithCopyWarning: \n",
      "A value is trying to be set on a copy of a slice from a DataFrame\n",
      "\n",
      "See the caveats in the documentation: https://pandas.pydata.org/pandas-docs/stable/user_guide/indexing.html#returning-a-view-versus-a-copy\n",
      "  pipes_table['id (mm)'][i] = pipe1.nominal_dia\n"
     ]
    },
    {
     "data": {
      "text/plain": [
       "0    0.182591\n",
       "1    0.152858\n",
       "2    0.172253\n",
       "3    0.200991\n",
       "Name: total head loss, dtype: float64"
      ]
     },
     "execution_count": 19,
     "metadata": {},
     "output_type": "execute_result"
    }
   ],
   "source": [
    "des_vel = 2\n",
    "for i in range(len(pipes_table)):\n",
    "    pipetype = pipes_table['pipe type'][i]\n",
    "    flow = pipes_table['flow'][i]\n",
    "    length = pipes_table['length (m)'][i]\n",
    "    static_head = pipes_table['static head (endZ-startZ)'][i]\n",
    "\n",
    "    pipe1 = entities.Pipe(pipetype=pipetype,flow_rate=flow)\n",
    "    pipe1.nominal_dia, pipe1.inside_dia, min_wt = pipe1.select_pipe_dia_from_velocity(des_vel)\n",
    "    print(pipe1.pipetype, '. ID = ', pipe1.inside_dia)\n",
    "    velocity = pipe1.velocity()\n",
    "    head_loss = pipe1.major_head_loss()\n",
    "    total_headloss = pipe1.total_head_loss()\n",
    "    # print(velocity, '', head loss, '', total_headloss)\n",
    "\n",
    "    pipes_table['velocity'][i] = velocity\n",
    "    pipes_table['head loss'][i] = head_loss\n",
    "    pipes_table['total head loss'][i] = total_headloss\n",
    "    pipes_table['nominal dia'][i] = pipe1.nominal_dia\n",
    "    pipes_table['id (mm)'][i] = pipe1.nominal_dia\n",
    "\n",
    "pipes_table['total head loss']"
   ]
  },
  {
   "cell_type": "code",
   "execution_count": 15,
   "id": "17143acd",
   "metadata": {},
   "outputs": [
    {
     "data": {
      "text/html": [
       "<div>\n",
       "<style scoped>\n",
       "    .dataframe tbody tr th:only-of-type {\n",
       "        vertical-align: middle;\n",
       "    }\n",
       "\n",
       "    .dataframe tbody tr th {\n",
       "        vertical-align: top;\n",
       "    }\n",
       "\n",
       "    .dataframe thead th {\n",
       "        text-align: right;\n",
       "    }\n",
       "</style>\n",
       "<table border=\"1\" class=\"dataframe\">\n",
       "  <thead>\n",
       "    <tr style=\"text-align: right;\">\n",
       "      <th></th>\n",
       "      <th>pipe #</th>\n",
       "      <th>start</th>\n",
       "      <th>end</th>\n",
       "      <th>pipe type</th>\n",
       "      <th>nominal dia</th>\n",
       "      <th>id (mm)</th>\n",
       "      <th>length (m)</th>\n",
       "      <th>static head (endZ-startZ)</th>\n",
       "      <th>flow</th>\n",
       "      <th>consumption</th>\n",
       "      <th>velocity</th>\n",
       "      <th>head loss</th>\n",
       "      <th>total head loss</th>\n",
       "      <th>start with</th>\n",
       "      <th>end with</th>\n",
       "    </tr>\n",
       "  </thead>\n",
       "  <tbody>\n",
       "    <tr>\n",
       "      <th>0</th>\n",
       "      <td>Pipe 1</td>\n",
       "      <td>(21.5668043743036, 11.188186431626036, -5.0)</td>\n",
       "      <td>(517.0784291680882, 78.03300443738927, 10.0)</td>\n",
       "      <td>PE100-16</td>\n",
       "      <td>630</td>\n",
       "      <td>630.0</td>\n",
       "      <td>500.224949</td>\n",
       "      <td>15</td>\n",
       "      <td>1400</td>\n",
       "      <td>500</td>\n",
       "      <td>1.862558</td>\n",
       "      <td>0.005703</td>\n",
       "      <td>0.182591</td>\n",
       "      <td>Pump 1</td>\n",
       "      <td>Pipe 2</td>\n",
       "    </tr>\n",
       "    <tr>\n",
       "      <th>1</th>\n",
       "      <td>Pipe 2</td>\n",
       "      <td>(517.0784291680882, 78.03300443738927, 10.0)</td>\n",
       "      <td>(-238.98518323144583, 1373.551361700368, 3.0)</td>\n",
       "      <td>Steel</td>\n",
       "      <td>18</td>\n",
       "      <td>18.0</td>\n",
       "      <td>1500.016333</td>\n",
       "      <td>-7</td>\n",
       "      <td>900</td>\n",
       "      <td>100</td>\n",
       "      <td>1.697752</td>\n",
       "      <td>0.005888</td>\n",
       "      <td>0.152858</td>\n",
       "      <td>Pipe 1</td>\n",
       "      <td>Pipe 3</td>\n",
       "    </tr>\n",
       "    <tr>\n",
       "      <th>2</th>\n",
       "      <td>Pipe 3</td>\n",
       "      <td>(-238.98518323144583, 1373.551361700368, 3.0)</td>\n",
       "      <td>(-414.49772705744687, 1070.7389660496515, 5.0)</td>\n",
       "      <td>PE100-10</td>\n",
       "      <td>450</td>\n",
       "      <td>450.0</td>\n",
       "      <td>350.005714</td>\n",
       "      <td>2</td>\n",
       "      <td>800</td>\n",
       "      <td>300</td>\n",
       "      <td>1.798839</td>\n",
       "      <td>0.007261</td>\n",
       "      <td>0.172253</td>\n",
       "      <td>Pipe 2</td>\n",
       "      <td>Pipe 4</td>\n",
       "    </tr>\n",
       "    <tr>\n",
       "      <th>3</th>\n",
       "      <td>Pipe 4</td>\n",
       "      <td>(-414.49772705744687, 1070.7389660496515, 5.0)</td>\n",
       "      <td>(-1225.3991087248933, 1332.1290115407974, 10.0)</td>\n",
       "      <td>PE100-12.5</td>\n",
       "      <td>355</td>\n",
       "      <td>355.0</td>\n",
       "      <td>852.003995</td>\n",
       "      <td>5</td>\n",
       "      <td>500</td>\n",
       "      <td>500</td>\n",
       "      <td>1.928705</td>\n",
       "      <td>0.011316</td>\n",
       "      <td>0.200991</td>\n",
       "      <td>Pipe 3</td>\n",
       "      <td>NaN</td>\n",
       "    </tr>\n",
       "  </tbody>\n",
       "</table>\n",
       "</div>"
      ],
      "text/plain": [
       "   pipe #                                           start  \\\n",
       "0  Pipe 1    (21.5668043743036, 11.188186431626036, -5.0)   \n",
       "1  Pipe 2    (517.0784291680882, 78.03300443738927, 10.0)   \n",
       "2  Pipe 3   (-238.98518323144583, 1373.551361700368, 3.0)   \n",
       "3  Pipe 4  (-414.49772705744687, 1070.7389660496515, 5.0)   \n",
       "\n",
       "                                               end   pipe type  nominal dia  \\\n",
       "0     (517.0784291680882, 78.03300443738927, 10.0)    PE100-16          630   \n",
       "1    (-238.98518323144583, 1373.551361700368, 3.0)       Steel           18   \n",
       "2   (-414.49772705744687, 1070.7389660496515, 5.0)    PE100-10          450   \n",
       "3  (-1225.3991087248933, 1332.1290115407974, 10.0)  PE100-12.5          355   \n",
       "\n",
       "   id (mm)   length (m)  static head (endZ-startZ)  flow  consumption  \\\n",
       "0    630.0   500.224949                         15  1400          500   \n",
       "1     18.0  1500.016333                         -7   900          100   \n",
       "2    450.0   350.005714                          2   800          300   \n",
       "3    355.0   852.003995                          5   500          500   \n",
       "\n",
       "   velocity  head loss  total head loss start with end with  \n",
       "0  1.862558   0.005703         0.182591     Pump 1   Pipe 2  \n",
       "1  1.697752   0.005888         0.152858     Pipe 1   Pipe 3  \n",
       "2  1.798839   0.007261         0.172253     Pipe 2   Pipe 4  \n",
       "3  1.928705   0.011316         0.200991     Pipe 3      NaN  "
      ]
     },
     "execution_count": 15,
     "metadata": {},
     "output_type": "execute_result"
    }
   ],
   "source": [
    "# des_vel\n",
    "# # pipe1.area_from_velocity(des_vel)\n",
    "# pipe1.flow_rate\n",
    "pipes_table"
   ]
  },
  {
   "cell_type": "code",
   "execution_count": 38,
   "metadata": {},
   "outputs": [
    {
     "data": {
      "text/html": [
       "<div>\n",
       "<style scoped>\n",
       "    .dataframe tbody tr th:only-of-type {\n",
       "        vertical-align: middle;\n",
       "    }\n",
       "\n",
       "    .dataframe tbody tr th {\n",
       "        vertical-align: top;\n",
       "    }\n",
       "\n",
       "    .dataframe thead th {\n",
       "        text-align: right;\n",
       "    }\n",
       "</style>\n",
       "<table border=\"1\" class=\"dataframe\">\n",
       "  <thead>\n",
       "    <tr style=\"text-align: right;\">\n",
       "      <th></th>\n",
       "      <th>id (mm)</th>\n",
       "      <th>total head loss</th>\n",
       "    </tr>\n",
       "  </thead>\n",
       "  <tbody>\n",
       "    <tr>\n",
       "      <th>0</th>\n",
       "      <td>630.0</td>\n",
       "      <td>0.182591</td>\n",
       "    </tr>\n",
       "    <tr>\n",
       "      <th>1</th>\n",
       "      <td>18.0</td>\n",
       "      <td>0.152858</td>\n",
       "    </tr>\n",
       "    <tr>\n",
       "      <th>2</th>\n",
       "      <td>450.0</td>\n",
       "      <td>0.172253</td>\n",
       "    </tr>\n",
       "    <tr>\n",
       "      <th>3</th>\n",
       "      <td>355.0</td>\n",
       "      <td>0.200991</td>\n",
       "    </tr>\n",
       "  </tbody>\n",
       "</table>\n",
       "</div>"
      ],
      "text/plain": [
       "   id (mm)  total head loss\n",
       "0    630.0         0.182591\n",
       "1     18.0         0.152858\n",
       "2    450.0         0.172253\n",
       "3    355.0         0.200991"
      ]
     },
     "execution_count": 38,
     "metadata": {},
     "output_type": "execute_result"
    }
   ],
   "source": [
    "a = pipes_table[['id (mm)','total head loss']]\n",
    "# pumps_table\n",
    "a\n"
   ]
  },
  {
   "cell_type": "code",
   "execution_count": 1,
   "id": "000e8565",
   "metadata": {},
   "outputs": [
    {
     "ename": "NameError",
     "evalue": "name 'pipes_table' is not defined",
     "output_type": "error",
     "traceback": [
      "\u001b[1;31m---------------------------------------------------------------------------\u001b[0m",
      "\u001b[1;31mNameError\u001b[0m                                 Traceback (most recent call last)",
      "\u001b[1;32mc:\\Users\\avner\\google drive\\Python\\Apps\\Avner autocad network solver\\tests.ipynb Cell 38\u001b[0m in \u001b[0;36m<cell line: 1>\u001b[1;34m()\u001b[0m\n\u001b[1;32m----> <a href='vscode-notebook-cell:/c%3A/Users/avner/google%20drive/Python/Apps/Avner%20autocad%20network%20solver/tests.ipynb#X52sZmlsZQ%3D%3D?line=0'>1</a>\u001b[0m \u001b[39msum\u001b[39m(pipes_table[\u001b[39m'\u001b[39m\u001b[39mtotal head loss\u001b[39m\u001b[39m'\u001b[39m])\n",
      "\u001b[1;31mNameError\u001b[0m: name 'pipes_table' is not defined"
     ]
    }
   ],
   "source": [
    "sum(pipes_table['total head loss'])"
   ]
  },
  {
   "cell_type": "code",
   "execution_count": 3,
   "id": "20523e77",
   "metadata": {},
   "outputs": [],
   "source": [
    "def get_string_from_prompt(acad,prompt_str):\n",
    "    a = acad.doc.Utility.GetString(1,prompt_str)\n",
    "    return a"
   ]
  },
  {
   "cell_type": "code",
   "execution_count": 4,
   "id": "570cf43c",
   "metadata": {},
   "outputs": [
    {
     "data": {
      "text/plain": [
       "'sdf'"
      ]
     },
     "execution_count": 4,
     "metadata": {},
     "output_type": "execute_result"
    }
   ],
   "source": [
    "# acad = win32com.client.Dispatch(\"AutoCAD.Application\") \n",
    "# acad.Visible = True\n",
    "b = autocad_functions.get_string_from_prompt(acad,'Please input something: ')\n",
    "\n",
    "b\n",
    "# a\n",
    "# acad.get_selection('dsa')"
   ]
  },
  {
   "cell_type": "code",
   "execution_count": 7,
   "id": "7084d0ac",
   "metadata": {},
   "outputs": [],
   "source": [
    "LayerObj = acad.ActiveDocument.Layers.Add('a')\n"
   ]
  },
  {
   "cell_type": "code",
   "execution_count": 26,
   "id": "c5922025",
   "metadata": {},
   "outputs": [
    {
     "name": "stdout",
     "output_type": "stream",
     "text": [
      "Type of object: AcDbCirclePump\n",
      "<class 'str'>\n",
      "0.75\n",
      "Type of object: AcDbLinePipe_PE100-16_800_500\n",
      "Steel\n",
      "20\n",
      "300\n",
      "1\n",
      "2\n",
      "3\n",
      "Type of object: AcDbLinePipe_Steel_20_100\n"
     ]
    },
    {
     "name": "stderr",
     "output_type": "stream",
     "text": [
      "c:\\Users\\avner\\google drive\\Python\\Apps\\Avner autocad network solver\\entities\\entities.py:96: SettingWithCopyWarning: \n",
      "A value is trying to be set on a copy of a slice from a DataFrame\n",
      "\n",
      "See the caveats in the documentation: https://pandas.pydata.org/pandas-docs/stable/user_guide/indexing.html#returning-a-view-versus-a-copy\n",
      "  self.pipe_table['Id'][0]=0\n"
     ]
    },
    {
     "name": "stdout",
     "output_type": "stream",
     "text": [
      "PE100-16\n",
      "315\n",
      "500\n",
      "1\n",
      "2\n",
      "3\n",
      "Type of object: AcDbLinePipe_PE100-10_500_300\n",
      "PE100-10\n",
      "225\n",
      "100\n",
      "1\n",
      "2\n",
      "3\n",
      "Type of object: AcDbLinePipe_PE100-12.5_315_500\n",
      "PE100-10\n",
      "110\n",
      "50\n",
      "1\n",
      "2\n",
      "3\n"
     ]
    }
   ],
   "source": [
    "acad = Autocad(create_if_not_exists=True)\n",
    "\n",
    "\n",
    "'''\n",
    "running on the dwg and sorting it's objects:\n",
    "'''\n",
    "i = 0\n",
    "j = 0\n",
    "pipes_table = pd.DataFrame(columns=['pipe #', 'start', 'end', 'pipe type',\n",
    "    'nominal dia', 'id (mm)', 'length (m)', 'static head (endZ-startZ)', \n",
    "    'flow', 'consumption', 'velocity', 'head loss', 'total head loss', 'start with', 'end with'])\n",
    "pumps_table = pd.DataFrame(columns=['pump #', 'center', 'flow' , 'head','efficiency','start num','power','wetpit min volume','connect to pipe'])\n",
    "\n",
    "for obj in acad.iter_objects_fast():\n",
    "\n",
    "    print(\"Type of object: \" + obj.ObjectName + obj.Layer)\n",
    "\n",
    "    if obj.Layer.startswith('Pipe'):\n",
    "        # if obj.Startpoint in pipes_table & obj\n",
    "        pipe_name = 'Pipe '+ str(i+1)\n",
    "        i += 1\n",
    "        # tmp,pipetype, nd , consumption= obj.Layer.split('_')\n",
    "        length=obj.Length\n",
    "        static_head=obj.Endpoint[2]-obj.Startpoint[2]\n",
    "        pipetype = autocad_functions.get_string_from_prompt(acad,f'{pipe_name}Enter pipe type: [Steel,PE100-16,PE100-12.5,PE100-10: ')\n",
    "        print(pipetype)\n",
    "        nd = autocad_functions.get_string_from_prompt(acad,f'{pipe_name}Enter nominal diameter: ')\n",
    "        print(nd)\n",
    "        consumption = autocad_functions.get_string_from_prompt(acad,f'{pipe_name}Enter consumption: ')\n",
    "        print(consumption)\n",
    "        pipe = entities.Pipe(pipetype=pipetype,nominal_dia=float(nd),length=length,static_head=static_head)\n",
    "        print(1)\n",
    "        pipe.inside_dia = pipe.inside_dia_from_nominal(nd=pipe.nominal_dia)\n",
    "        print(2)\n",
    "        data = [pipe_name,obj.Startpoint,obj.Endpoint,pipetype,nd,pipe.inside_dia,pipe.length,\n",
    "                    pipe.static_head,\"\",float(consumption),\"\",\n",
    "                    \"\",\"\",\"\",\"\"]\n",
    "        print(3)\n",
    "        pipes_table.loc[len(pipes_table)] = data\n",
    "\n",
    "    # if obj.ObjectName == 'AcDbBlockReference':\n",
    "    #     print(obj.Rotation*57.2957795)\n",
    "    #     for obj1 in obj.iter_objects_fast():\n",
    "    #         print(1)\n",
    "\n",
    "    # i = 0\n",
    "    if (obj.Layer.startswith('Pump')) & (obj.ObjectName == \"AcDbCircle\"):\n",
    "        pump_name = 'Pump '+ str(j+1)\n",
    "        j += 1\n",
    "        # print(pipes_table['consumption'].sum())\n",
    "        # flow = pipes_table['consumption'].sum()\n",
    "        # pump = entities.Pump(rated_flow=flow)\n",
    "        efficiency = autocad_functions.get_string_from_prompt(acad,'enter pump efficiency (if blank eff= 75%): ') # Will change in the futere \n",
    "        print(type(efficiency))\n",
    "        if (efficiency.isdigit()):\n",
    "            efficiency = float(efficiency)\n",
    "        else:\n",
    "            efficiency = 0.75\n",
    "        print(efficiency)\n",
    "        # wetpit = pump.min_wet_pit(flow,8)\n",
    "        data = [pump_name,obj.Center,'',0,efficiency,'','','','']\n",
    "        pumps_table.loc[len(pumps_table)] = data\n",
    "        #'pump #', 'center', 'flow' , 'head','efficiency','start num','power','wetpit min volume','connect to pipe'\n",
    "# pipes_table['start']\n",
    "\n",
    "pipes_table.set_index(pipes_table['pipe #'],inplace=True)\n",
    "pumps_table.set_index(pumps_table['pump #'],inplace=True)\n"
   ]
  },
  {
   "cell_type": "code",
   "execution_count": 5,
   "id": "0a9f92e4",
   "metadata": {},
   "outputs": [
    {
     "ename": "NameError",
     "evalue": "name 'pipe_name' is not defined",
     "output_type": "error",
     "traceback": [
      "\u001b[1;31m---------------------------------------------------------------------------\u001b[0m",
      "\u001b[1;31mNameError\u001b[0m                                 Traceback (most recent call last)",
      "\u001b[1;32m~\\AppData\\Local\\Temp/ipykernel_21216/2058828650.py\u001b[0m in \u001b[0;36m<module>\u001b[1;34m\u001b[0m\n\u001b[1;32m----> 1\u001b[1;33m \u001b[0mpipetype\u001b[0m \u001b[1;33m=\u001b[0m \u001b[0mautocad_functions\u001b[0m\u001b[1;33m.\u001b[0m\u001b[0mget_string_from_prompt\u001b[0m\u001b[1;33m(\u001b[0m\u001b[0macad\u001b[0m\u001b[1;33m,\u001b[0m\u001b[0mpipe_name\u001b[0m \u001b[1;33m+\u001b[0m \u001b[1;34m' Enter pipe type or ([Steel],[PE100-16],[PE100-12.5],[PE100-10]): '\u001b[0m\u001b[1;33m)\u001b[0m\u001b[1;33m\u001b[0m\u001b[1;33m\u001b[0m\u001b[0m\n\u001b[0m\u001b[0;32m      2\u001b[0m \u001b[0mpipetype\u001b[0m\u001b[1;33m\u001b[0m\u001b[1;33m\u001b[0m\u001b[0m\n",
      "\u001b[1;31mNameError\u001b[0m: name 'pipe_name' is not defined"
     ]
    }
   ],
   "source": [
    "pipetype = autocad_functions.get_string_from_prompt(acad,pipe_name + ' Enter pipe type or ([Steel],[PE100-16],[PE100-12.5],[PE100-10]): ')\n",
    "pipetype"
   ]
  },
  {
   "cell_type": "code",
   "execution_count": 6,
   "id": "7828e5b6",
   "metadata": {},
   "outputs": [
    {
     "ename": "COMError",
     "evalue": "(-2147352567, 'Exception occurred.', ('Invalid argument KeyWordList in InitializeUserInput', 'AutoCAD', 'C:\\\\Program Files\\\\Autodesk\\\\AutoCAD 2021\\\\HELP\\\\OLE_ERR.CHM', -2145320939, None))",
     "output_type": "error",
     "traceback": [
      "\u001b[1;31m---------------------------------------------------------------------------\u001b[0m",
      "\u001b[1;31mCOMError\u001b[0m                                  Traceback (most recent call last)",
      "\u001b[1;32m~\\AppData\\Local\\Temp/ipykernel_21216/1170650306.py\u001b[0m in \u001b[0;36m<module>\u001b[1;34m\u001b[0m\n\u001b[0;32m      6\u001b[0m \u001b[0mpipe_types\u001b[0m \u001b[1;33m=\u001b[0m \u001b[1;33m[\u001b[0m\u001b[1;34m'Steel'\u001b[0m\u001b[1;33m,\u001b[0m \u001b[1;34m'PE100-16'\u001b[0m\u001b[1;33m,\u001b[0m \u001b[1;34m'PE100-12.5'\u001b[0m\u001b[1;33m,\u001b[0m \u001b[1;34m'PE100-10'\u001b[0m\u001b[1;33m]\u001b[0m\u001b[1;33m\u001b[0m\u001b[1;33m\u001b[0m\u001b[0m\n\u001b[0;32m      7\u001b[0m \u001b[1;31m# pipetype_list =\u001b[0m\u001b[1;33m\u001b[0m\u001b[1;33m\u001b[0m\u001b[0m\n\u001b[1;32m----> 8\u001b[1;33m \u001b[0mget_keyword_from_prompt\u001b[0m\u001b[1;33m(\u001b[0m\u001b[0macad\u001b[0m\u001b[1;33m,\u001b[0m\u001b[1;34m'Enter pipe type '\u001b[0m\u001b[1;33m,\u001b[0m\u001b[0mpipe_types\u001b[0m\u001b[1;33m)\u001b[0m\u001b[1;33m\u001b[0m\u001b[1;33m\u001b[0m\u001b[0m\n\u001b[0m",
      "\u001b[1;32m~\\AppData\\Local\\Temp/ipykernel_21216/1170650306.py\u001b[0m in \u001b[0;36mget_keyword_from_prompt\u001b[1;34m(acad, prompt_str, var_list)\u001b[0m\n\u001b[0;32m      1\u001b[0m \u001b[1;32mdef\u001b[0m \u001b[0mget_keyword_from_prompt\u001b[0m\u001b[1;33m(\u001b[0m\u001b[0macad\u001b[0m\u001b[1;33m,\u001b[0m\u001b[0mprompt_str\u001b[0m\u001b[1;33m,\u001b[0m\u001b[0mvar_list\u001b[0m\u001b[1;33m)\u001b[0m\u001b[1;33m:\u001b[0m\u001b[1;33m\u001b[0m\u001b[1;33m\u001b[0m\u001b[0m\n\u001b[1;32m----> 2\u001b[1;33m     \u001b[0macad\u001b[0m\u001b[1;33m.\u001b[0m\u001b[0mdoc\u001b[0m\u001b[1;33m.\u001b[0m\u001b[0mUtility\u001b[0m\u001b[1;33m.\u001b[0m\u001b[0mInitializeUserInput\u001b[0m \u001b[1;33m(\u001b[0m\u001b[1;36m1\u001b[0m\u001b[1;33m,\u001b[0m \u001b[0mvar_list\u001b[0m\u001b[1;33m)\u001b[0m\u001b[1;33m\u001b[0m\u001b[1;33m\u001b[0m\u001b[0m\n\u001b[0m\u001b[0;32m      3\u001b[0m     \u001b[0muser_input\u001b[0m \u001b[1;33m=\u001b[0m \u001b[0macad\u001b[0m\u001b[1;33m.\u001b[0m\u001b[0mdoc\u001b[0m\u001b[1;33m.\u001b[0m\u001b[0mUtility\u001b[0m\u001b[1;33m.\u001b[0m\u001b[0mGetKeyword\u001b[0m\u001b[1;33m(\u001b[0m\u001b[0mprompt_str\u001b[0m \u001b[1;33m+\u001b[0m \u001b[0mvar_list\u001b[0m\u001b[1;33m)\u001b[0m\u001b[1;33m\u001b[0m\u001b[1;33m\u001b[0m\u001b[0m\n\u001b[0;32m      4\u001b[0m     \u001b[1;32mreturn\u001b[0m \u001b[0muser_input\u001b[0m\u001b[1;33m\u001b[0m\u001b[1;33m\u001b[0m\u001b[0m\n\u001b[0;32m      5\u001b[0m \u001b[1;33m\u001b[0m\u001b[0m\n",
      "\u001b[1;32mc:\\ProgramData\\Anaconda3\\lib\\site-packages\\comtypes\\client\\lazybind.py\u001b[0m in \u001b[0;36mcaller\u001b[1;34m(*args)\u001b[0m\n\u001b[0;32m    180\u001b[0m             \u001b[1;31m# DISPATCH_METHOD\u001b[0m\u001b[1;33m\u001b[0m\u001b[1;33m\u001b[0m\u001b[0m\n\u001b[0;32m    181\u001b[0m             \u001b[1;32mdef\u001b[0m \u001b[0mcaller\u001b[0m\u001b[1;33m(\u001b[0m\u001b[1;33m*\u001b[0m\u001b[0margs\u001b[0m\u001b[1;33m)\u001b[0m\u001b[1;33m:\u001b[0m\u001b[1;33m\u001b[0m\u001b[1;33m\u001b[0m\u001b[0m\n\u001b[1;32m--> 182\u001b[1;33m                 \u001b[1;32mreturn\u001b[0m \u001b[0mself\u001b[0m\u001b[1;33m.\u001b[0m\u001b[0m_comobj\u001b[0m\u001b[1;33m.\u001b[0m\u001b[0m_invoke\u001b[0m\u001b[1;33m(\u001b[0m\u001b[0mdescr\u001b[0m\u001b[1;33m.\u001b[0m\u001b[0mmemid\u001b[0m\u001b[1;33m,\u001b[0m \u001b[0mdescr\u001b[0m\u001b[1;33m.\u001b[0m\u001b[0minvkind\u001b[0m\u001b[1;33m,\u001b[0m \u001b[1;36m0\u001b[0m\u001b[1;33m,\u001b[0m \u001b[1;33m*\u001b[0m\u001b[0margs\u001b[0m\u001b[1;33m)\u001b[0m\u001b[1;33m\u001b[0m\u001b[1;33m\u001b[0m\u001b[0m\n\u001b[0m\u001b[0;32m    183\u001b[0m             \u001b[1;32mtry\u001b[0m\u001b[1;33m:\u001b[0m\u001b[1;33m\u001b[0m\u001b[1;33m\u001b[0m\u001b[0m\n\u001b[0;32m    184\u001b[0m                 \u001b[0mcaller\u001b[0m\u001b[1;33m.\u001b[0m\u001b[0m__name__\u001b[0m \u001b[1;33m=\u001b[0m \u001b[0mname\u001b[0m\u001b[1;33m\u001b[0m\u001b[1;33m\u001b[0m\u001b[0m\n",
      "\u001b[1;32mc:\\ProgramData\\Anaconda3\\lib\\site-packages\\comtypes\\automation.py\u001b[0m in \u001b[0;36m_invoke\u001b[1;34m(self, memid, invkind, lcid, *args)\u001b[0m\n\u001b[0;32m    726\u001b[0m             \u001b[0mdp\u001b[0m\u001b[1;33m.\u001b[0m\u001b[0mrgvarg\u001b[0m \u001b[1;33m=\u001b[0m \u001b[0marray\u001b[0m\u001b[1;33m\u001b[0m\u001b[1;33m\u001b[0m\u001b[0m\n\u001b[0;32m    727\u001b[0m \u001b[1;33m\u001b[0m\u001b[0m\n\u001b[1;32m--> 728\u001b[1;33m         self.__com_Invoke(memid, riid_null, lcid, invkind,\n\u001b[0m\u001b[0;32m    729\u001b[0m                           dp, var, None, argerr)\n\u001b[0;32m    730\u001b[0m         \u001b[1;32mreturn\u001b[0m \u001b[0mvar\u001b[0m\u001b[1;33m.\u001b[0m\u001b[0m_get_value\u001b[0m\u001b[1;33m(\u001b[0m\u001b[0mdynamic\u001b[0m\u001b[1;33m=\u001b[0m\u001b[1;32mTrue\u001b[0m\u001b[1;33m)\u001b[0m\u001b[1;33m\u001b[0m\u001b[1;33m\u001b[0m\u001b[0m\n",
      "\u001b[1;31mCOMError\u001b[0m: (-2147352567, 'Exception occurred.', ('Invalid argument KeyWordList in InitializeUserInput', 'AutoCAD', 'C:\\\\Program Files\\\\Autodesk\\\\AutoCAD 2021\\\\HELP\\\\OLE_ERR.CHM', -2145320939, None))"
     ]
    }
   ],
   "source": [
    "def get_keyword_from_prompt(acad,prompt_str,var_list):\n",
    "    acad.doc.Utility.InitializeUserInput (1, var_list)\n",
    "    user_input = acad.doc.Utility.GetKeyword(prompt_str + var_list)\n",
    "    return user_input\n",
    "\n",
    "pipe_types = ['Steel', 'PE100-16', 'PE100-12.5', 'PE100-10']\n",
    "# pipetype_list = \n",
    "get_keyword_from_prompt(acad,'Enter pipe type ',pipe_types)"
   ]
  },
  {
   "cell_type": "code",
   "execution_count": 49,
   "id": "ed04018b",
   "metadata": {},
   "outputs": [
    {
     "data": {
      "text/plain": [
       "['Steel', 'PE100-16', 'PE100-10', 'PE100-12.5']"
      ]
     },
     "execution_count": 49,
     "metadata": {},
     "output_type": "execute_result"
    }
   ],
   "source": [
    "# pipes_type_table = pd.read_excel('data\\\\info\\\\pipes.xlsx',sheet_name=None).keys()\n",
    "xl = pd.ExcelFile('data\\\\info\\\\pipes.xlsx')\n",
    "pipes_type_table = pd.ExcelFile('data\\\\info\\\\pipes.xlsx').sheet_names\n",
    "pipes_type_table\n",
    "# xl.sheet_names  # see all sheet names\n",
    "\n",
    "# xl.parse(sheet_name)  # read a specific sheet to DataFrame"
   ]
  },
  {
   "cell_type": "code",
   "execution_count": 101,
   "id": "6511735a",
   "metadata": {},
   "outputs": [
    {
     "ename": "AttributeError",
     "evalue": "'dict' object has no attribute 'fillna'",
     "output_type": "error",
     "traceback": [
      "\u001b[1;31m---------------------------------------------------------------------------\u001b[0m",
      "\u001b[1;31mAttributeError\u001b[0m                            Traceback (most recent call last)",
      "\u001b[1;32m~\\AppData\\Local\\Temp/ipykernel_22704/3170035504.py\u001b[0m in \u001b[0;36m<module>\u001b[1;34m\u001b[0m\n\u001b[0;32m     48\u001b[0m \u001b[1;31m# f'{pipetype}_{nd}_{consumption}'\u001b[0m\u001b[1;33m\u001b[0m\u001b[1;33m\u001b[0m\u001b[0m\n\u001b[0;32m     49\u001b[0m \u001b[1;33m\u001b[0m\u001b[0m\n\u001b[1;32m---> 50\u001b[1;33m \u001b[0mpipes_type_dict\u001b[0m \u001b[1;33m=\u001b[0m \u001b[0mpd\u001b[0m\u001b[1;33m.\u001b[0m\u001b[0mread_excel\u001b[0m\u001b[1;33m(\u001b[0m\u001b[1;34m'data\\\\info\\\\pipes.xlsx'\u001b[0m\u001b[1;33m,\u001b[0m\u001b[0msheet_name\u001b[0m\u001b[1;33m=\u001b[0m\u001b[1;32mNone\u001b[0m\u001b[1;33m)\u001b[0m\u001b[1;33m.\u001b[0m\u001b[0mfillna\u001b[0m\u001b[1;33m(\u001b[0m\u001b[0mvalue\u001b[0m\u001b[1;33m=\u001b[0m\u001b[1;34m\"\"\u001b[0m\u001b[1;33m)\u001b[0m\u001b[1;33m\u001b[0m\u001b[1;33m\u001b[0m\u001b[0m\n\u001b[0m\u001b[0;32m     51\u001b[0m \u001b[0ma\u001b[0m \u001b[1;33m=\u001b[0m \u001b[0mpipes_type_dict\u001b[0m\u001b[1;33m[\u001b[0m\u001b[1;34m'PE100-16'\u001b[0m\u001b[1;33m]\u001b[0m\u001b[1;33m\u001b[0m\u001b[1;33m\u001b[0m\u001b[0m\n\u001b[0;32m     52\u001b[0m \u001b[0ma\u001b[0m\u001b[1;33m\u001b[0m\u001b[1;33m\u001b[0m\u001b[0m\n",
      "\u001b[1;31mAttributeError\u001b[0m: 'dict' object has no attribute 'fillna'"
     ]
    }
   ],
   "source": [
    "#### Lower cased pipe type:\n",
    "# pipes_type_table = [x.lower() for x in pd.ExcelFile('data\\\\info\\\\pipes.xlsx').sheet_names]\n",
    "# pipes_type_table\n",
    "\n",
    "#### Sriping string:\n",
    "# a = 'pe100-16'\n",
    "# a.replace('pe100-','')\n",
    "# # a\n",
    "\n",
    "# pipes_type_table = pd.ExcelFile('data\\\\info\\\\pipes.xlsx').sheet_names\n",
    "# # pipes_type_table_nu = [x.lower().replace('pe100-','') for x in pipes_type_table]\n",
    "# # pipes_type_table_nu\n",
    "\n",
    "# # '16' in pipes_type_table\n",
    "# pipetype='PE100-16'\n",
    "# pipes_type_dict = pd.read_excel('data\\\\info\\\\pipes.xlsx',sheet_name=None)\n",
    "\n",
    "# pipes_type_dict[pipetype]['Id'].values\n",
    "\n",
    "# a = list(pipes_type_dict['PE100-16']['ND'].values)\n",
    "# a\n",
    "\n",
    "# nominal_dia = []\n",
    "# # [nominal_dia.append(pipes_type_dict[pipetype]['ND']) for x in pipes_type_dict[pipetype]['Id'] if float(pipes_type_dict[pipetype]['Id'].values) > 0]\n",
    "# # nominal_dia\n",
    "# list(pipes_type_dict[pipetype][pipes_type_dict[pipetype]['Id'] > 0]['ND'])\n",
    "\n",
    "# def pipe_diameter_table (self):\n",
    "#     pipe_table = pd.read_excel('pipes.xlsx',sheet_name=pipetype).fillna(value=0)\n",
    "#     if pipetype == 'Steel':\n",
    "#         a = list(pipe_table['ND'].drop_duplicates().values)\n",
    "#         b = [str(x) for x in a]\n",
    "#         return b\n",
    "#     else:\n",
    "#         # print(pipe_table[(pipe_table['Id']!= 0) or ()])\n",
    "#         a = list(pipe_table[pipe_table['Id']!= 0]['ND'].values)\n",
    "#         b = [str(x) for x in a]\n",
    "#         return b\n",
    "# type(a)\n",
    "# 'steel' in [x.lower() for x in pipes_type_table.keys()]\n",
    "\n",
    "\n",
    "# for obj in acad.get_selection(\"please select new pipe:\"):\n",
    "#     print(obj.Layer)\n",
    "# pipetype = 'Steel'\n",
    "# nd = '20'\n",
    "# consumption = 100\n",
    "# f'{pipetype}_{nd}_{consumption}'\n",
    "\n",
    "pipes_type_dict = pd.read_excel('data\\\\info\\\\pipes.xlsx',sheet_name=None)\n",
    "a"
   ]
  },
  {
   "cell_type": "code",
   "execution_count": 97,
   "id": "7533acca",
   "metadata": {},
   "outputs": [
    {
     "name": "stdout",
     "output_type": "stream",
     "text": [
      "please select new pipe:\n",
      "please select new pipe:\n",
      "0\n",
      "1\n",
      "2\n",
      "3\n"
     ]
    }
   ],
   "source": [
    "acad = Autocad(create_if_not_exists=True)\n",
    "\n",
    "\n",
    "pipes_type_dict = pd.read_excel('data\\\\info\\\\pipes.xlsx',sheet_name=None)\n",
    "# pipes_type_table = pd.ExcelFile('data\\\\info\\\\pipes.xlsx').sheet_names\n",
    "# pipes_type_table_l = [x.lower() for x in pipes_type_table]\n",
    "\n",
    "\n",
    "def make_a_pipe(acad,pipe_name: str ):\n",
    "    \n",
    "    def get_user_pipe_type():\n",
    "        \n",
    "        pipetype = autocad_functions.get_string_from_prompt(acad,f'{pipe_name}Enter pipe type: + {pipes_type_dict.keys()}:')\n",
    "        \n",
    "        if (pipetype.lower() not in [x.lower() for x in pipes_type_dict.keys()]):\n",
    "            \n",
    "            while True:\n",
    "\n",
    "                if pipetype.lower() == 's':\n",
    "                    pipetype = 'Steel'\n",
    "                    break\n",
    "\n",
    "                if pipetype.lower() in [x.lower().replace('pe100-','') for x in pipes_type_dict.keys()]:\n",
    "                    pipetype = f'PE100-{pipetype}'\n",
    "                    break\n",
    "\n",
    "                pipetype = autocad_functions.get_string_from_prompt(acad,f'WRONG INPUT!\\nEnter pipe type: + {pipes_type_dict.keys()}:')\n",
    "                \n",
    "                if pipetype.lower() in [x.lower() for x in pipes_type_dict.keys()]:\n",
    "                    break\n",
    "        if pipetype == 'steel':\n",
    "            pipetype.capitalize()\n",
    "        return pipetype\n",
    "\n",
    "    def pipe_diameter_table (pipetype: str) -> list:\n",
    "        if pipetype == 'Steel':\n",
    "            a = list(pipes_type_dict[pipetype]['ND'].drop_duplicates().values)\n",
    "            b = [str(x) for x in a]\n",
    "            return b\n",
    "        else:\n",
    "            # print(pipe_table[(pipe_table['Id']!= 0) or ()])\n",
    "            a = list(pipes_type_dict[pipetype][pipes_type_dict[pipetype]['Id'] > 0]['ND'])\n",
    "            b = [str(x) for x in a]\n",
    "            return b\n",
    "\n",
    "    def get_user_nominal_diameter(pipetype):\n",
    "        print(1)\n",
    "        pipe_diameter_table1 = pipe_diameter_table(pipetype)\n",
    "        print(2)\n",
    "        nominal_dia = autocad_functions.get_string_from_prompt(acad,f'{pipe_name}Enter Nominal Diameter: + {pipe_diameter_table1}:')\n",
    "        print(3)\n",
    "        while nominal_dia not in pipe_diameter_table1:\n",
    "\n",
    "            nominal_dia = autocad_functions.get_string_from_prompt(acad,f'WRONG INPUT!\\nEnter Nominal Diameter: + {pipe_diameter_table1}:')\n",
    "        \n",
    "        return nominal_dia\n",
    "\n",
    "    def get_user_consumption ():\n",
    "        consumption = autocad_functions.get_string_from_prompt(acad,f'Enter End Consumption in m^3/hr:')\n",
    "        while True:\n",
    "            try:\n",
    "                float (consumption)\n",
    "                break\n",
    "            except:\n",
    "                consumption = autocad_functions.get_string_from_prompt(acad,f'Error!!\\nEnter End Consumption in m^3/hr:')\n",
    "        return consumption\n",
    "\n",
    "    def create_layer(pipetype:str, nd:int, consumption:str) -> str:\n",
    "        layer_name = f\"{pipetype}_{nd}_{consumption}\"\n",
    "        acad.ActiveDocument.Layers.Add(layer_name)\n",
    "        return layer_name\n",
    "        # a = acad.ActiveDocument.ChangeLayer(pipe_layer)\n",
    "    \n",
    "    for obj in acad.get_selection(\"please select new pipe:\"):\n",
    "        print(obj.Layer)\n",
    "        pipetype = get_user_pipe_type()\n",
    "        nd = get_user_nominal_diameter(pipetype)\n",
    "        consumption = get_user_consumption()\n",
    "        layer_name = create_layer(pipetype, nd, consumption)\n",
    "        obj.Layer = layer_name\n",
    "    # print(pipetype + nd + consumption)\n",
    "    # nd = autocad_functions.get_string_from_prompt(acad,f'{pipe_name}Enter nominal diameter: ')\n",
    "    # print(nd)\n",
    "    # consumption = autocad_functions.get_string_from_prompt(acad,f'{pipe_name}Enter consumption: ')\n",
    "    # print(consumption)\n",
    "\n",
    "make_a_pipe(acad,'1')\n",
    "# print (a)"
   ]
  },
  {
   "cell_type": "markdown",
   "id": "da409f02",
   "metadata": {},
   "source": [
    "# draw a section from pipes in autocad:\n"
   ]
  },
  {
   "cell_type": "code",
   "execution_count": 5,
   "id": "f78e64d3",
   "metadata": {},
   "outputs": [
    {
     "data": {
      "text/plain": [
       "<comtypes.client.lazybind.Dispatch at 0x13cf8d50be0>"
      ]
     },
     "execution_count": 5,
     "metadata": {},
     "output_type": "execute_result"
    }
   ],
   "source": [
    "p1 = acad.aDouble((0,0,0))\n",
    "p2 = acad.aDouble((50,8,0))\n",
    "acad.model.AddLine(p1,p2)"
   ]
  },
  {
   "cell_type": "code",
   "execution_count": 17,
   "id": "c417df97",
   "metadata": {},
   "outputs": [
    {
     "data": {
      "text/plain": [
       "'-5.0'"
      ]
     },
     "execution_count": 17,
     "metadata": {},
     "output_type": "execute_result"
    }
   ],
   "source": [
    "pipes_table['start'][0].replace(')',\"\").split(', ')[2]"
   ]
  },
  {
   "cell_type": "code",
   "execution_count": 89,
   "id": "c92c91fd",
   "metadata": {},
   "outputs": [
    {
     "data": {
      "text/plain": [
       "100"
      ]
     },
     "execution_count": 89,
     "metadata": {},
     "output_type": "execute_result"
    }
   ],
   "source": [
    "def round_by_base(x, base):\n",
    "    return base * round(x/base)\n",
    "\n",
    "def round_to_next_i(n,i):\n",
    "    if n >= 0:\n",
    "        rounded_n = n + (i - n) % i\n",
    "    else:\n",
    "        rounded_n = n - (i + n) % i\n",
    "    return rounded_n\n",
    "\n",
    "round_to_next_i(80,100)"
   ]
  },
  {
   "cell_type": "code",
   "execution_count": 71,
   "id": "15fdb8dc",
   "metadata": {},
   "outputs": [
    {
     "data": {
      "text/plain": [
       "-15"
      ]
     },
     "execution_count": 71,
     "metadata": {},
     "output_type": "execute_result"
    }
   ],
   "source": [
    "-12 - (5-12) % 5"
   ]
  },
  {
   "cell_type": "code",
   "execution_count": 108,
   "id": "60987499",
   "metadata": {},
   "outputs": [
    {
     "data": {
      "text/plain": [
       "3202.2509913977237"
      ]
     },
     "execution_count": 108,
     "metadata": {},
     "output_type": "execute_result"
    }
   ],
   "source": [
    "sum(pipes_table['length (m)'])"
   ]
  },
  {
   "cell_type": "code",
   "execution_count": 182,
   "id": "09f1a6ec",
   "metadata": {},
   "outputs": [],
   "source": []
  },
  {
   "cell_type": "code",
   "execution_count": 180,
   "id": "668b87b4",
   "metadata": {},
   "outputs": [
    {
     "data": {
      "text/plain": [
       "0.0039700000000000004"
      ]
     },
     "execution_count": 180,
     "metadata": {},
     "output_type": "execute_result"
    }
   ],
   "source": [
    "# i = 1\n",
    "# pipes_type_table = pd.read_excel('data\\\\info\\\\pipes.xlsx',sheet_name='Steel')\n",
    "# # od = pipes_type_table[pipes_type_table[\"ND\"] == pipes_table['nominal dia'][i]]['OD'].iloc[0]/1000 #float only in jupeter (excel)\n",
    "# # pipe_invert_start = float_tuple_from_str(pipes_table['start'][i])[2] # in app dont' need the float and cleaning part. only for jupyter\n",
    "# # pipe_invert_end = float_tuple_from_str(pipes_table['end'][i])[2]\n",
    "# # od\n",
    "# # pipes_table['nominal dia'][i]\n",
    "# min_wt = pipes_type_table[pipes_type_table['ND']==pipes_table['nominal dia'][i]]['wall thickness'].min()/1000\n",
    "# min_wt"
   ]
  },
  {
   "cell_type": "code",
   "execution_count": 181,
   "id": "0fdf9827",
   "metadata": {},
   "outputs": [],
   "source": [
    "\n",
    "####################### Def - draw_pipe_sec (acad, pipes_table)\n",
    "\n",
    "\n",
    "def draw_pipe_sec (acad, pipes_table):\n",
    "    total_length = 0 # sum of all pipe_length to point\n",
    "\n",
    "    for i in range(len(pipes_table)):\n",
    "        \n",
    "        ### data ###\n",
    "        pipe_invert_start = float_tuple_from_str(pipes_table['start'][i])[2] # in app dont' need the float and cleaning part. only for jupyter\n",
    "        pipe_invert_end = float_tuple_from_str(pipes_table['end'][i])[2] #float(pipes_table['end'][i].replace(')',\"\").split(', ')[2])\n",
    "        pipe_length = pipes_table['length (m)'][i]\n",
    "        pipe_type = pipes_table['pipe type'][i]\n",
    "\n",
    "        if pipe_type == 'Steel':\n",
    "            pipes_type_table = pd.read_excel('data\\\\info\\\\pipes.xlsx',sheet_name='Steel')\n",
    "            od = pipes_type_table[pipes_type_table[\"ND\"] == pipes_table['nominal dia'][i]]['OD'].iloc[0]/1000 #float only in jupeter (excel)\n",
    "            min_wt = pipes_type_table[pipes_type_table['ND']==pipes_table['nominal dia'][i]]['wall thickness'].min()/1000\n",
    "        else:\n",
    "            od = pipes_table['nominal dia'][i]/1000\n",
    "            min_wt = ((pipes_table['nominal dia'][i] - pipes_table['id (mm)'][i])/2)/1000\n",
    "            \n",
    "        ### invert line ###   \n",
    "        p1 = APoint(total_length,pipe_invert_start)\n",
    "        p2 = APoint((total_length + pipe_length),pipe_invert_end)\n",
    "        acad.model.AddLine(p1,p2)\n",
    "\n",
    "        ### down out side line\n",
    "        p3 = APoint(total_length,pipe_invert_start - min_wt)\n",
    "        p4 = APoint((total_length + pipe_length),pipe_invert_end - min_wt)\n",
    "        acad.model.AddLine(p3,p4) \n",
    "        \n",
    "        ### up out side line\n",
    "        p5 = APoint(total_length,pipe_invert_start - min_wt + od)\n",
    "        p6 = APoint((total_length + pipe_length),pipe_invert_end - min_wt + od)\n",
    "        acad.model.AddLine(p5,p6) \n",
    "\n",
    "        ### up inside side line\n",
    "        p7 = APoint(total_length,pipe_invert_start - min_wt*2 + od)\n",
    "        p8 = APoint((total_length + pipe_length),pipe_invert_end - min_wt*2 + od)\n",
    "        acad.model.AddLine(p7,p8) \n",
    "\n",
    "        ####### Reset to next pipe #########\n",
    "        total_length += pipe_length       \n",
    "\n",
    "\n"
   ]
  },
  {
   "cell_type": "code",
   "execution_count": 158,
   "id": "eae56076",
   "metadata": {},
   "outputs": [
    {
     "data": {
      "text/plain": [
       "406.4"
      ]
     },
     "execution_count": 158,
     "metadata": {},
     "output_type": "execute_result"
    }
   ],
   "source": [
    "pipes_type_table = pd.read_excel('data\\\\info\\\\pipes.xlsx',sheet_name='Steel')\n",
    "od = pipes_type_table[pipes_type_table[\"ND\"] == pipes_table['nominal dia'][1]]['OD'].iloc[0]\n",
    "od\n",
    "# pipes_table['nominal dia']"
   ]
  },
  {
   "cell_type": "code",
   "execution_count": 227,
   "id": "d1829d89",
   "metadata": {},
   "outputs": [],
   "source": [
    "px1 = APoint((0,1,0))\n",
    "px2 = APoint((0,22,0))\n",
    "px3 = APoint(px1.x,px1.y-5)\n",
    "px3\n",
    "text = acad.model.Addtext(f'1000 m',px3,2.5)\n",
    "# text.Alignment.AlignmentLeft\n",
    "text.Alignment=4\n"
   ]
  },
  {
   "cell_type": "code",
   "execution_count": 246,
   "id": "b0b735cf",
   "metadata": {},
   "outputs": [],
   "source": [
    "def round_by_base(x, base):\n",
    "    return base * round(x/base)\n",
    "\n",
    "def round_to_next_i(n,i):\n",
    "    if n >= 0:\n",
    "        rounded_n = n + (i - n) % i\n",
    "    else:\n",
    "        rounded_n = n - (i + n) % i\n",
    "    return rounded_n\n",
    "\n",
    "##############################################\n",
    "\n",
    "####################### Def - make_a_sec_grid (acad, pipes_table, x_steps, y_steps)\n",
    "def make_a_sec_grid1 (acad, pipes_table, x_steps, y_steps):\n",
    "    max_y = round_to_next_i(pipes_table['static head (endZ-startZ)'].max(),y_steps)+y_steps\n",
    "    min_y = round_to_next_i(pipes_table['static head (endZ-startZ)'].min(),y_steps)-y_steps\n",
    "\n",
    "    min_x = 0\n",
    "    max_x = round_to_next_i(int(sum(pipes_table['length (m)'])),x_steps)\n",
    "\n",
    "    py1 = APoint((0,min_y,0))\n",
    "    py2 = APoint((max_x,min_y,0))\n",
    "    py3 = APoint((-5,min_y,0))\n",
    "\n",
    "    px1 = APoint((0,min_y,0))\n",
    "    px2 = APoint((0,min_y+y_steps/2,0))\n",
    "    px3 = APoint(px1.x,px1.y-5,0)\n",
    "\n",
    "    for y in range (min_y,max_y+y_steps,y_steps):\n",
    "\n",
    "        acad.model.AddLine(py1,py2)\n",
    "        text = acad.model.Addtext(py1.y,py1,2.5)\n",
    "        \n",
    "        py1.y += y_steps\n",
    "        py2.y += y_steps\n",
    "        py3.y += y_steps\n",
    "\n",
    "    for x in range (min_x, max_x+1,x_steps):    \n",
    "\n",
    "        acad.model.AddLine(px1,px2)\n",
    "        # text.Alignment = 1\n",
    "        text = acad.model.Addtext(f'{x} m',px3,2.5)\n",
    "        \n",
    "\n",
    "        px1.x += x_steps\n",
    "        px2.x += x_steps\n",
    "        px3.x += x_steps\n",
    "\n",
    "x_steps = 500\n",
    "y_steps = 5\n",
    "make_a_sec_grid1(acad,pipes_table,x_steps,y_steps)\n",
    "# draw_pipe_sec(acad,pipes_table)"
   ]
  },
  {
   "cell_type": "code",
   "execution_count": 191,
   "id": "80daa3bd",
   "metadata": {},
   "outputs": [
    {
     "data": {
      "text/plain": [
       "15"
      ]
     },
     "execution_count": 191,
     "metadata": {},
     "output_type": "execute_result"
    }
   ],
   "source": [
    "y_steps = 5\n",
    "max_y = round_to_next_i(pipes_table['static head (endZ-startZ)'].max(),y_steps)\n",
    "max_y"
   ]
  },
  {
   "cell_type": "code",
   "execution_count": 295,
   "id": "65676af9",
   "metadata": {},
   "outputs": [],
   "source": [
    "def round_by_base(x, base):\n",
    "    return base * round(x/base)\n",
    "\n",
    "def round_to_next_i(n,i):\n",
    "    if n >= 0:\n",
    "        rounded_n = n + (i - n) % i\n",
    "    else:\n",
    "        rounded_n = n - (i + n) % i\n",
    "    return rounded_n\n",
    "\n",
    "##############################################\n",
    "####################### Autocad-layers\n",
    "\n",
    "grid_layer = acad.ActiveDocument.Layers.Add(\"grid\")\n",
    "grid_text_layer = acad.ActiveDocument.Layers.Add(\"grid_text\")\n",
    "pipe_layer = acad.ActiveDocument.Layers.Add(\"pipe\")\n",
    "pipe_guideline_layer = acad.ActiveDocument.Layers.Add(\"pipe_guideline\")\n",
    "\n",
    "grid_layer.color = 7\n",
    "grid_text_layer.color = 7\n",
    "pipe_layer.color = 5\n",
    "pipe_guideline_layer = 8\n",
    "\n",
    "####################### Def - make_a_sec_grid (acad, pipes_table, x_steps, y_steps)\n",
    "def make_a_sec_grid (acad, pipes_table, x_steps, y_steps):\n",
    "    max_y = round_to_next_i(pipes_table['static head (endZ-startZ)'].max(),y_steps)+y_steps\n",
    "    min_y = round_to_next_i(pipes_table['static head (endZ-startZ)'].min(),y_steps)-y_steps\n",
    "\n",
    "    min_x = 0\n",
    "    max_x = round_to_next_i(int(sum(pipes_table['length (m)'])),x_steps)\n",
    "\n",
    "    py1 = APoint((0,min_y,0))\n",
    "    py2 = APoint((max_x,min_y,0))\n",
    "    py3 = APoint((-50,min_y,0))\n",
    "\n",
    "    px1 = APoint((0,min_y,0))\n",
    "    px2 = APoint((0,min_y+y_steps/2,0))\n",
    "    px3 = APoint((0,max_y,0))\n",
    "    px4 = APoint((px1.x-5,px1.y-5,0))\n",
    "    \n",
    "\n",
    "    for y in range (min_y,max_y+y_steps,y_steps):\n",
    "\n",
    "        acad.ActiveDocument.ActiveLayer = grid_layer\n",
    "        main_horizntel_line = acad.model.AddLine(py1,py2)\n",
    "        \n",
    "        acad.ActiveDocument.ActiveLayer = grid_text_layer\n",
    "        text = acad.model.Addtext(py1.y,py1,2.5)\n",
    "        # text.Justify = 1 \n",
    "                \n",
    "        py1.y += y_steps\n",
    "        py2.y += y_steps\n",
    "        py3.y += y_steps\n",
    "\n",
    "    for x in range (min_x, max_x+1,x_steps):    \n",
    "\n",
    "        acad.ActiveDocument.ActiveLayer = grid_layer\n",
    "        tips_line = acad.model.AddLine(px1,px2)\n",
    "        grid_vertical_line = acad.model.AddLine(px1,px3)\n",
    "        grid_vertical_line.color = 8\n",
    "\n",
    "        acad.ActiveDocument.ActiveLayer = grid_text_layer\n",
    "        text = acad.model.Addtext(f'{x} m',px4,2.5)\n",
    "        # text.Alignment = 0        \n",
    "\n",
    "        px1.x += x_steps\n",
    "        px2.x += x_steps\n",
    "        px3.x += x_steps\n",
    "        px4.x += x_steps\n",
    "    \n",
    "    return min_x, max_x, min_y, max_y\n",
    "\n",
    "\n",
    "####################### Def - draw_pipe_sec (acad, pipes_table)\n",
    "def draw_pipe_sec (acad, pipes_table,min_y,max_y):\n",
    "    total_length = 0 # sum of all pipe_length to point\n",
    "\n",
    "    for i in range(len(pipes_table)):\n",
    "        \n",
    "        ### data ###\n",
    "        pipe_invert_start = float_tuple_from_str(pipes_table['start'][i])[2] # in app dont' need the float and cleaning part. only for jupyter\n",
    "        pipe_invert_end = float_tuple_from_str(pipes_table['end'][i])[2] #float(pipes_table['end'][i].replace(')',\"\").split(', ')[2])\n",
    "        pipe_length = pipes_table['length (m)'][i]\n",
    "        pipe_type = pipes_table['pipe type'][i]\n",
    "\n",
    "        if pipe_type == 'Steel':\n",
    "            pipes_type_table = pd.read_excel('data\\\\info\\\\pipes.xlsx',sheet_name='Steel')\n",
    "            od = pipes_type_table[pipes_type_table[\"ND\"] == pipes_table['nominal dia'][i]]['OD'].iloc[0]/1000 #float only in jupeter (excel)\n",
    "            min_wt = pipes_type_table[pipes_type_table['ND']==pipes_table['nominal dia'][i]]['wall thickness'].min()/1000\n",
    "        else:\n",
    "            od = pipes_table['nominal dia'][i]/1000\n",
    "            min_wt = ((pipes_table['nominal dia'][i] - pipes_table['id (mm)'][i])/2)/1000\n",
    "\n",
    "        ############ Draw pipe\n",
    "\n",
    "        acad.ActiveDocument.ActiveLayer = pipe_layer\n",
    "        ### invert line ###   \n",
    "        p1 = APoint(total_length,pipe_invert_start)\n",
    "        p2 = APoint((total_length + pipe_length),pipe_invert_end)\n",
    "        acad.model.AddLine(p1,p2)\n",
    "\n",
    "        ### down out side line\n",
    "        p3 = APoint(total_length,pipe_invert_start - min_wt)\n",
    "        p4 = APoint((total_length + pipe_length),pipe_invert_end - min_wt)\n",
    "        acad.model.AddLine(p3,p4) \n",
    "        \n",
    "        ### up out side line\n",
    "        p5 = APoint(total_length,pipe_invert_start - min_wt + od)\n",
    "        p6 = APoint((total_length + pipe_length),pipe_invert_end - min_wt + od)\n",
    "        acad.model.AddLine(p5,p6) \n",
    "\n",
    "        ### up inside side line\n",
    "        p7 = APoint(total_length,pipe_invert_start - min_wt*2 + od)\n",
    "        p8 = APoint((total_length + pipe_length),pipe_invert_end - min_wt*2 + od)\n",
    "        acad.model.AddLine(p7,p8) \n",
    "\n",
    "        ### pipe guideline ###\n",
    "        p9 = APoint(total_length,min_y)\n",
    "        p10 = APoint(total_length,max_y)\n",
    "        acad.model.AddLine(p9,p10)\n",
    "\n",
    "        ####### Reset to next pipe #########\n",
    "        total_length += pipe_length       \n",
    "\n",
    "x_steps = 500\n",
    "y_steps = 5\n",
    "min_x,max_x,min_y,max_y = make_a_sec_grid(acad,pipes_table,x_steps,y_steps)\n",
    "draw_pipe_sec(acad,pipes_table,min_y,max_y)\n"
   ]
  },
  {
   "cell_type": "code",
   "execution_count": 291,
   "id": "87ec4508",
   "metadata": {},
   "outputs": [],
   "source": [
    "\n"
   ]
  },
  {
   "cell_type": "code",
   "execution_count": 254,
   "id": "d62307f6",
   "metadata": {},
   "outputs": [],
   "source": [
    "\n",
    "LayerObj = acad.ActiveDocument.Layers.Add(\"Hit_layer\")\n",
    "     # Add a new layer, the layer name is \"HIT_Layer\". \n",
    "acad.ActiveDocument.ActiveLayer = LayerObj\n",
    "\n",
    "     # Set the \"HIT_Layer\" layer as the current layer.\n",
    "ClrNum = 7\n",
    "LayerObj.color = ClrNum\n",
    "     # ClrNum is the color index number, and its value range is [0,256]; \n",
    "     # The color index number of the standard color is specified as follows: 1 red, 2 yellow, 3 green, 4 cyan, 5 blue, 6 Magenta, 7 White/Black; \n",
    "     # 0 ByBlock, 256 ByLayer; \n",
    "     # For other color index numbers, see https://wenku.baidu.com/view/9d458b70195f312b3069a505.html.\n",
    "\n"
   ]
  },
  {
   "cell_type": "code",
   "execution_count": 262,
   "id": "c372a6c7",
   "metadata": {},
   "outputs": [],
   "source": [
    "grid_layer = acad.ActiveDocument.Layers.Add(\"grid\")\n",
    "grid_text_layer = acad.ActiveDocument.Layers.Add(\"grid_text\")\n",
    "pipe_layer = acad.ActiveDocument.Layers.Add(\"pipe\")\n",
    "\n",
    "grid_layer.color = 7\n",
    "grid_text_layer.color = 7\n",
    "pipe_layer.color = 5\n",
    "\n",
    "     # Add a new layer, the layer name is \"HIT_Layer\". \n",
    "# acad.ActiveDocument.ActiveLayer = LayerObj\n",
    "\n",
    "#      # Set the \"HIT_Layer\" layer as the current layer.\n",
    "# ClrNum = 7\n",
    "\n",
    "     # ClrNum is the color index number, and its value range is [0,256]; \n",
    "     # The color index number of the standard color is specified as follows: 1 red, 2 yellow, 3 green, 4 cyan, 5 blue, 6 Magenta, 7 White/Black; \n",
    "     # 0 ByBlock, 256 ByLayer; \n",
    "     # For other color index numbers, see https://wenku.baidu.com/view/9d458b70195f312b3069a505.html.\n",
    "\n"
   ]
  },
  {
   "cell_type": "code",
   "execution_count": null,
   "id": "94c4405a",
   "metadata": {},
   "outputs": [],
   "source": []
  },
  {
   "cell_type": "code",
   "execution_count": 3,
   "id": "80375f39",
   "metadata": {},
   "outputs": [
    {
     "ename": "ModuleNotFoundError",
     "evalue": "No module named 'wx'",
     "output_type": "error",
     "traceback": [
      "\u001b[1;31m---------------------------------------------------------------------------\u001b[0m",
      "\u001b[1;31mModuleNotFoundError\u001b[0m                       Traceback (most recent call last)",
      "\u001b[1;32mc:\\Users\\avner\\google drive\\Python\\Apps\\Avner autocad network solver\\utils\\dfgui.py\u001b[0m in \u001b[0;36m<module>\u001b[1;34m\u001b[0m\n\u001b[0;32m      6\u001b[0m \u001b[1;32mtry\u001b[0m\u001b[1;33m:\u001b[0m\u001b[1;33m\u001b[0m\u001b[1;33m\u001b[0m\u001b[0m\n\u001b[1;32m----> 7\u001b[1;33m     \u001b[1;32mimport\u001b[0m \u001b[0mwx\u001b[0m\u001b[1;33m\u001b[0m\u001b[1;33m\u001b[0m\u001b[0m\n\u001b[0m\u001b[0;32m      8\u001b[0m \u001b[1;32mexcept\u001b[0m \u001b[0mImportError\u001b[0m\u001b[1;33m:\u001b[0m\u001b[1;33m\u001b[0m\u001b[1;33m\u001b[0m\u001b[0m\n",
      "\u001b[1;31mModuleNotFoundError\u001b[0m: No module named 'wx'",
      "\nDuring handling of the above exception, another exception occurred:\n",
      "\u001b[1;31mModuleNotFoundError\u001b[0m                       Traceback (most recent call last)",
      "\u001b[1;32m~\\AppData\\Local\\Temp/ipykernel_3528/920085738.py\u001b[0m in \u001b[0;36m<module>\u001b[1;34m\u001b[0m\n\u001b[1;32m----> 1\u001b[1;33m \u001b[1;32mfrom\u001b[0m \u001b[0mutils\u001b[0m \u001b[1;32mimport\u001b[0m \u001b[0mdfgui\u001b[0m\u001b[1;33m\u001b[0m\u001b[1;33m\u001b[0m\u001b[0m\n\u001b[0m",
      "\u001b[1;32mc:\\Users\\avner\\google drive\\Python\\Apps\\Avner autocad network solver\\utils\\dfgui.py\u001b[0m in \u001b[0;36m<module>\u001b[1;34m\u001b[0m\n\u001b[0;32m     12\u001b[0m         \u001b[1;34m\"/usr/lib/python2.7/dist-packages\"\u001b[0m\u001b[1;33m\u001b[0m\u001b[1;33m\u001b[0m\u001b[0m\n\u001b[0;32m     13\u001b[0m     ]\n\u001b[1;32m---> 14\u001b[1;33m     \u001b[1;32mimport\u001b[0m \u001b[0mwx\u001b[0m\u001b[1;33m\u001b[0m\u001b[1;33m\u001b[0m\u001b[0m\n\u001b[0m\u001b[0;32m     15\u001b[0m \u001b[1;33m\u001b[0m\u001b[0m\n\u001b[0;32m     16\u001b[0m \u001b[1;32mimport\u001b[0m \u001b[0mmatplotlib\u001b[0m\u001b[1;33m\u001b[0m\u001b[1;33m\u001b[0m\u001b[0m\n",
      "\u001b[1;31mModuleNotFoundError\u001b[0m: No module named 'wx'"
     ]
    }
   ],
   "source": []
  }
 ],
 "metadata": {
  "kernelspec": {
   "display_name": "Python 3.9.7 ('base')",
   "language": "python",
   "name": "python3"
  },
  "language_info": {
   "codemirror_mode": {
    "name": "ipython",
    "version": 3
   },
   "file_extension": ".py",
   "mimetype": "text/x-python",
   "name": "python",
   "nbconvert_exporter": "python",
   "pygments_lexer": "ipython3",
   "version": "3.11.5"
  },
  "vscode": {
   "interpreter": {
    "hash": "ad2bdc8ecc057115af97d19610ffacc2b4e99fae6737bb82f5d7fb13d2f2c186"
   }
  }
 },
 "nbformat": 4,
 "nbformat_minor": 5
}
